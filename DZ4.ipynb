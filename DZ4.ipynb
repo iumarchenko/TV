{
 "cells": [
  {
   "cell_type": "markdown",
   "metadata": {},
   "source": [
    "<b> Случайная непрерывная величина A имеет равномерное распределение на промежутке (200, 800]. <br>\n",
    "Найдите ее среднее значение и дисперсию."
   ]
  },
  {
   "cell_type": "code",
   "execution_count": 16,
   "metadata": {},
   "outputs": [],
   "source": [
    "a = 200\n",
    "b = 800"
   ]
  },
  {
   "cell_type": "code",
   "execution_count": 17,
   "metadata": {},
   "outputs": [
    {
     "data": {
      "text/plain": [
       "500.0"
      ]
     },
     "execution_count": 17,
     "metadata": {},
     "output_type": "execute_result"
    }
   ],
   "source": [
    "(800+200)/2"
   ]
  },
  {
   "cell_type": "code",
   "execution_count": 18,
   "metadata": {},
   "outputs": [
    {
     "data": {
      "text/plain": [
       "30000.0"
      ]
     },
     "execution_count": 18,
     "metadata": {},
     "output_type": "execute_result"
    }
   ],
   "source": [
    "(b - a)**2/12"
   ]
  },
  {
   "cell_type": "markdown",
   "metadata": {},
   "source": [
    "<b> О случайной непрерывной равномерно распределенной величине B известно, что ее дисперсия равна 0.2.<br>\n",
    "Можно ли найти правую границу величины B и ее среднее значение зная, что левая граница равна 0.5?<br>\n",
    "Если да, найдите ее."
   ]
  },
  {
   "cell_type": "code",
   "execution_count": 20,
   "metadata": {},
   "outputs": [
    {
     "data": {
      "text/plain": [
       "2.049193338482967"
      ]
     },
     "execution_count": 20,
     "metadata": {},
     "output_type": "execute_result"
    }
   ],
   "source": [
    "import numpy as np\n",
    "import math \n",
    "b = np.sqrt(0.2*12) + 0.5\n",
    "b"
   ]
  },
  {
   "cell_type": "markdown",
   "metadata": {},
   "source": [
    "<b>Непрерывная случайная величина X распределена нормально и задана плотностью распределения<br>\n",
    "f(x) = (1 / (4 * sqrt(2*pi))) * (exp(-((x+2)**2 / 32))).<br>\n",
    "Найдите:<br>\n",
    "1. M(X)\n",
    "2. D(X)\n",
    "3. std(X) (среднее квадратичное отклонение)"
   ]
  },
  {
   "cell_type": "code",
   "execution_count": 6,
   "metadata": {},
   "outputs": [
    {
     "data": {
      "text/plain": [
       "-2"
      ]
     },
     "execution_count": 6,
     "metadata": {},
     "output_type": "execute_result"
    }
   ],
   "source": [
    "M = -2\n",
    "M"
   ]
  },
  {
   "cell_type": "code",
   "execution_count": 7,
   "metadata": {},
   "outputs": [
    {
     "data": {
      "text/plain": [
       "16"
      ]
     },
     "execution_count": 7,
     "metadata": {},
     "output_type": "execute_result"
    }
   ],
   "source": [
    "D = 4**2\n",
    "D"
   ]
  },
  {
   "cell_type": "code",
   "execution_count": 8,
   "metadata": {},
   "outputs": [
    {
     "data": {
      "text/plain": [
       "4.0"
      ]
     },
     "execution_count": 8,
     "metadata": {},
     "output_type": "execute_result"
    }
   ],
   "source": [
    "s = np.sqrt(D)\n",
    "s"
   ]
  },
  {
   "cell_type": "markdown",
   "metadata": {},
   "source": [
    "<b>Рост взрослого населения города X имеет нормальное распределение. <br>\n",
    "Причем, средний рост равен 174 см, а среднее квадратичное отклонение равно 8 см.<br>\n",
    "Какова вероятность того, что случайным образом выбранный взрослый человек имеет рост:<br>\n",
    "1. больше 182 см\n",
    "2. больше 190 см\n",
    "3. от 166 см до 190 см\n",
    "4. от 166 см до 182 см\n",
    "5. от 158 см до 190 см\n",
    "6. не выше 150 см или не ниже 190 см\n",
    "7. не выше 150 см или не ниже 198 см\n",
    "8. ниже 166 см."
   ]
  },
  {
   "cell_type": "code",
   "execution_count": 9,
   "metadata": {},
   "outputs": [],
   "source": [
    "M = 174\n",
    "s = 8"
   ]
  },
  {
   "cell_type": "code",
   "execution_count": 46,
   "metadata": {},
   "outputs": [
    {
     "data": {
      "text/plain": [
       "(1.0, 0.15869999999999995)"
      ]
     },
     "execution_count": 46,
     "metadata": {},
     "output_type": "execute_result"
    }
   ],
   "source": [
    "# больше 182 см\n",
    "# (182-174)/8 = 1, табличное значение для роста < 182 = 0,8413 \n",
    "# получается ответ 1 - 0,8413\n",
    "(182-174)/8 , (1 - 0.8413)"
   ]
  },
  {
   "cell_type": "code",
   "execution_count": 49,
   "metadata": {},
   "outputs": [
    {
     "data": {
      "text/plain": [
       "(2.0, 0.022800000000000042)"
      ]
     },
     "execution_count": 49,
     "metadata": {},
     "output_type": "execute_result"
    }
   ],
   "source": [
    "# больше 190 см\n",
    "# (190-174)/8 = 2, табличное значение для роста < 190 = 0,9772\n",
    "# получается ответ 1 - 0,9772\n",
    "(190-174)/8 , (1 - 0.9772)"
   ]
  },
  {
   "cell_type": "code",
   "execution_count": 50,
   "metadata": {},
   "outputs": [
    {
     "data": {
      "text/plain": [
       "(2.0, -1.0, 0.8185)"
      ]
     },
     "execution_count": 50,
     "metadata": {},
     "output_type": "execute_result"
    }
   ],
   "source": [
    "# от 166 см до 190 см\n",
    "# площадь фигуры для роста < 190 = 0,9772\n",
    "# площадь фигуры для роста < 166 =  0,1587\n",
    "# нужно вычесть из площади фигуры 190 площадь фигуры 166\n",
    "(190-174)/8, (166-174)/8, 0.9772 - 0.1587"
   ]
  },
  {
   "cell_type": "code",
   "execution_count": 51,
   "metadata": {},
   "outputs": [
    {
     "data": {
      "text/plain": [
       "(1.0, -1.0, 0.6826000000000001)"
      ]
     },
     "execution_count": 51,
     "metadata": {},
     "output_type": "execute_result"
    }
   ],
   "source": [
    "# от 166 см до 182 см\n",
    "# площадь фигуры для роста < 182 = 0,8413 \n",
    "# площадь фигуры для роста < 166 =  0,1587\n",
    "# нужно вычесть из площади фигуры 182 площадь фигуры 166\n",
    "(182-174)/8, (166-174)/8, 0.8413 - 0.1587"
   ]
  },
  {
   "cell_type": "code",
   "execution_count": 52,
   "metadata": {},
   "outputs": [
    {
     "data": {
      "text/plain": [
       "(2.0, -2.0, 0.9543999999999999)"
      ]
     },
     "execution_count": 52,
     "metadata": {},
     "output_type": "execute_result"
    }
   ],
   "source": [
    "# от 158 см до 190 см\n",
    "# площадь фигуры для роста < 190 = 0,9772\n",
    "# площадь фигуры для роста < 158 =  0,0228\n",
    "# нужно вычесть из площади фигуры 190 площадь фигуры 158\n",
    "(190-174)/8, (158-174)/8, 0.9772 - 0.0228"
   ]
  },
  {
   "cell_type": "code",
   "execution_count": 62,
   "metadata": {},
   "outputs": [
    {
     "data": {
      "text/plain": [
       "(2.0, 0.022800000000000042, -3.0, 0.0242)"
      ]
     },
     "execution_count": 62,
     "metadata": {},
     "output_type": "execute_result"
    }
   ],
   "source": [
    "# не выше 150 см или не ниже 190 см\n",
    "# площадь фигуры для роста < 190 = 0,9772\n",
    "# площадь фигуры для роста > 190 = 1 - 0,9772 = 0,0228\n",
    "# площадь фигуры для роста < 150 = 0,0014\n",
    "# итого надо сложить площадь фигуры для роста > 190 и площадь фигуры для роста < 150\n",
    "(190-174)/8, 1 - 0.9772, (150-174)/8, 0.0014 + 0.0228"
   ]
  },
  {
   "cell_type": "code",
   "execution_count": 56,
   "metadata": {},
   "outputs": [
    {
     "data": {
      "text/plain": [
       "(3.0, 0.0013999999999999568, -3.0, 0.00279)"
      ]
     },
     "execution_count": 56,
     "metadata": {},
     "output_type": "execute_result"
    }
   ],
   "source": [
    "# не выше 150 см или не ниже 198 см\n",
    "# площадь фигуры для роста < 198 = 0,9986\n",
    "# площадь фигуры для роста > 198 = 1 - 0,9986 = 0,00139\n",
    "# площадь фигуры для роста < 150 = 0,0014\n",
    "# итого надо сложить площадь фигуры для роста > 198 и площадь фигуры для роста < 150\n",
    "(198-174)/8, 1 - 0.9986, (150-174)/8, 0.0014 + 0.00139"
   ]
  },
  {
   "cell_type": "code",
   "execution_count": 57,
   "metadata": {},
   "outputs": [
    {
     "data": {
      "text/plain": [
       "(-1.0, 0.1587)"
      ]
     },
     "execution_count": 57,
     "metadata": {},
     "output_type": "execute_result"
    }
   ],
   "source": [
    "# ниже 166 см\n",
    "# (166-174)/8 = 2, табличное значение для роста < 166 = 0,1587\n",
    "(166-174)/8 , 0.1587"
   ]
  },
  {
   "cell_type": "markdown",
   "metadata": {},
   "source": [
    "<b>На сколько сигм (средних квадратичных отклонений) отклоняется рост человека, равный 190 см, от\n",
    "математического ожидания роста в популяции, в которой M(X) = 178 см и D(X) = 25 кв.см?"
   ]
  },
  {
   "cell_type": "code",
   "execution_count": 12,
   "metadata": {},
   "outputs": [
    {
     "data": {
      "text/plain": [
       "2.4"
      ]
     },
     "execution_count": 12,
     "metadata": {},
     "output_type": "execute_result"
    }
   ],
   "source": [
    "M = 178\n",
    "D = 25\n",
    "s = np.sqrt(D)\n",
    "R = 190\n",
    "\n",
    "(R - M)/s"
   ]
  },
  {
   "cell_type": "code",
   "execution_count": 43,
   "metadata": {},
   "outputs": [
    {
     "data": {
      "text/plain": [
       "1.0"
      ]
     },
     "execution_count": 43,
     "metadata": {},
     "output_type": "execute_result"
    }
   ],
   "source": [
    "(182-174)/8"
   ]
  },
  {
   "cell_type": "code",
   "execution_count": null,
   "metadata": {},
   "outputs": [],
   "source": []
  }
 ],
 "metadata": {
  "kernelspec": {
   "display_name": "Python 3",
   "language": "python",
   "name": "python3"
  },
  "language_info": {
   "codemirror_mode": {
    "name": "ipython",
    "version": 3
   },
   "file_extension": ".py",
   "mimetype": "text/x-python",
   "name": "python",
   "nbconvert_exporter": "python",
   "pygments_lexer": "ipython3",
   "version": "3.7.3"
  }
 },
 "nbformat": 4,
 "nbformat_minor": 2
}
