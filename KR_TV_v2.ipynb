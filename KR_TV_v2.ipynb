{
 "cells": [
  {
   "cell_type": "code",
   "execution_count": 1,
   "metadata": {},
   "outputs": [],
   "source": [
    "import pandas as pd\n",
    "import numpy as np\n",
    "import warnings\n",
    "warnings.filterwarnings('ignore')\n",
    "import matplotlib.pyplot as plt\n",
    "from pylab import rcParams\n",
    "import seaborn as sns"
   ]
  },
  {
   "cell_type": "code",
   "execution_count": 2,
   "metadata": {},
   "outputs": [],
   "source": [
    "data_train=pd.read_csv('d:\\GB course\\TV\\kurs\\google-play-store-apps\\googleplaystore.csv')"
   ]
  },
  {
   "cell_type": "code",
   "execution_count": 3,
   "metadata": {},
   "outputs": [],
   "source": [
    "# App - название приложения\n",
    "# Category - категория приложения\n",
    "# Rating - рейтинг приложения (считается по количеству звездочек)\n",
    "# Reviews - похоже это количество отзывов к приложению\n",
    "# Size - размер приложения\n",
    "# Installs - количество установок приложения\n",
    "# Type - тип платный/бесплатный\n",
    "# Price - цена приложения\n",
    "# Content Rating - возрастной ценз, для всех, 18+ и т.д.\n",
    "# Genres - жанр. сильно коррелирует с категорией. но жанр это дерево, т.е. значения через разделитель \";\"\n",
    "# Last Updated - дата последнего обновления в апсторе\n",
    "# Current Ver - текущая версия приложения в апсторе\n",
    "# Android Ver - версия этого же приложения в плеймаркете."
   ]
  },
  {
   "cell_type": "code",
   "execution_count": 4,
   "metadata": {},
   "outputs": [
    {
     "name": "stdout",
     "output_type": "stream",
     "text": [
      "<class 'pandas.core.frame.DataFrame'>\n",
      "RangeIndex: 10841 entries, 0 to 10840\n",
      "Data columns (total 13 columns):\n",
      "App               10841 non-null object\n",
      "Category          10841 non-null object\n",
      "Rating            9367 non-null float64\n",
      "Reviews           10841 non-null object\n",
      "Size              10841 non-null object\n",
      "Installs          10841 non-null object\n",
      "Type              10840 non-null object\n",
      "Price             10841 non-null object\n",
      "Content Rating    10840 non-null object\n",
      "Genres            10841 non-null object\n",
      "Last Updated      10841 non-null object\n",
      "Current Ver       10833 non-null object\n",
      "Android Ver       10838 non-null object\n",
      "dtypes: float64(1), object(12)\n",
      "memory usage: 1.1+ MB\n"
     ]
    }
   ],
   "source": [
    "#часть данных пустая, это видно по количеству записей\n",
    "data_train.info()"
   ]
  },
  {
   "cell_type": "markdown",
   "metadata": {},
   "source": [
    "## причесали данные"
   ]
  },
  {
   "cell_type": "code",
   "execution_count": 5,
   "metadata": {},
   "outputs": [],
   "source": [
    "#вот тут вся запись кривая. все сдвинуто на столбец влево. Удалять не буду, сдвину руками вправо. \n",
    "data_train.loc[10472,'Android Ver'] = data_train.loc[10472,'Current Ver']\n",
    "data_train.loc[10472,'Current Ver'] = data_train.loc[10472,'Last Updated']\n",
    "data_train.loc[10472,'Last Updated'] = data_train.loc[10472,'Genres']\n",
    "data_train.loc[10472,'Genres'] =  'Lifestyle' # тут ставлю руками, потому что в таблице нулл \n",
    "data_train.loc[10472,'Content Rating'] = data_train.loc[10472,'Price']\n",
    "data_train.loc[10472,'Price'] = data_train.loc[10472,'Type']\n",
    "data_train.loc[10472,'Type'] = data_train.loc[10472,'Installs']\n",
    "data_train.loc[10472,'Installs'] = data_train.loc[10472,'Size']\n",
    "data_train.loc[10472,'Size'] = data_train.loc[10472,'Reviews']\n",
    "data_train.loc[10472,'Reviews'] = data_train.loc[10472,'Rating']\n",
    "data_train.loc[10472,'Rating'] = np.float64(data_train.loc[10472,'Category'])\n",
    "data_train.loc[10472,'Category'] = 'LIFESTYLE' # тут тоже ставлю руками, потому что в таблице нулл "
   ]
  },
  {
   "cell_type": "code",
   "execution_count": 6,
   "metadata": {},
   "outputs": [],
   "source": [
    "#типы. есть 1 проблемная запись с пустым типом \n",
    "#ставлю тип 'Free'     \n",
    "data_train.loc[data_train['Type'].isnull(),'Type'] = 'Free'     "
   ]
  },
  {
   "cell_type": "code",
   "execution_count": 7,
   "metadata": {},
   "outputs": [
    {
     "data": {
      "image/png": "[encoded data removed]",
      "text/plain": [
       "<Figure size 432x288 with 1 Axes>"
      ]
     },
     "metadata": {
      "needs_background": "light"
     },
     "output_type": "display_data"
    }
   ],
   "source": [
    "# очень много пустых рейтингов. 10841 - 9367 = 1474\n",
    "# посмотрим на эти данные сейчас. \n",
    "# график рейтингов похож на нормальное распределение\n",
    "plt.hist(data_train['Rating'], bins = 21)\n",
    "plt.show()"
   ]
  },
  {
   "cell_type": "code",
   "execution_count": 8,
   "metadata": {},
   "outputs": [
    {
     "data": {
      "text/html": [
       "<div>\n",
       "<style scoped>\n",
       "    .dataframe tbody tr th:only-of-type {\n",
       "        vertical-align: middle;\n",
       "    }\n",
       "\n",
       "    .dataframe tbody tr th {\n",
       "        vertical-align: top;\n",
       "    }\n",
       "\n",
       "    .dataframe thead th {\n",
       "        text-align: right;\n",
       "    }\n",
       "</style>\n",
       "<table border=\"1\" class=\"dataframe\">\n",
       "  <thead>\n",
       "    <tr style=\"text-align: right;\">\n",
       "      <th></th>\n",
       "      <th>App</th>\n",
       "      <th>Category</th>\n",
       "      <th>Rating</th>\n",
       "      <th>Reviews</th>\n",
       "      <th>Size</th>\n",
       "      <th>Installs</th>\n",
       "      <th>Type</th>\n",
       "      <th>Price</th>\n",
       "      <th>Content Rating</th>\n",
       "      <th>Genres</th>\n",
       "      <th>Last Updated</th>\n",
       "      <th>Current Ver</th>\n",
       "      <th>Android Ver</th>\n",
       "    </tr>\n",
       "  </thead>\n",
       "  <tbody>\n",
       "  </tbody>\n",
       "</table>\n",
       "</div>"
      ],
      "text/plain": [
       "Empty DataFrame\n",
       "Columns: [App, Category, Rating, Reviews, Size, Installs, Type, Price, Content Rating, Genres, Last Updated, Current Ver, Android Ver]\n",
       "Index: []"
      ]
     },
     "execution_count": 8,
     "metadata": {},
     "output_type": "execute_result"
    }
   ],
   "source": [
    "# есть ли данные с рейтингом 0?\n",
    "# таких данных нет. похоже 0, это если рейтинг отсутствует, т.е. пользователи не оценивали приложение\n",
    "# значит корректно будет если мы поставим этим данным 0, вместо null\n",
    "data_train.loc[data_train['Rating'] == 0]"
   ]
  },
  {
   "cell_type": "code",
   "execution_count": 9,
   "metadata": {},
   "outputs": [
    {
     "data": {
      "image/png": "[encoded data removed]",
      "text/plain": [
       "<Figure size 432x288 with 1 Axes>"
      ]
     },
     "metadata": {
      "needs_background": "light"
     },
     "output_type": "display_data"
    }
   ],
   "source": [
    "# если пустым рейтингам поставить 0, то на нормальное распределение уже будет сильно меньше похоже\n",
    "data_train.loc[data_train['Rating'].isnull(),'Rating'] = 0\n",
    "plt.hist(data_train['Rating'], bins = 21)\n",
    "plt.show()"
   ]
  },
  {
   "cell_type": "code",
   "execution_count": 10,
   "metadata": {},
   "outputs": [],
   "source": [
    "#Current Ver. Android Ver. Текущая версия приложения в апсторе и в плеймаркете. \n",
    "#есть пустые записи\n",
    "#версии ставятся вообще какие угодно. \n",
    "#версия в плеймаркете с версией андроида тоже никак не соотносится, одна может быть 8, вторая 1.\n",
    "#поставим пустым версиям и там и там 0.0.1\n",
    "data_train.loc[data_train['Current Ver'].isnull(),'Current Ver'] = '0.0.1'\n",
    "data_train.loc[data_train['Android Ver'].isnull(),'Android Ver'] = '1.0 and up'"
   ]
  },
  {
   "cell_type": "code",
   "execution_count": 11,
   "metadata": {},
   "outputs": [
    {
     "name": "stdout",
     "output_type": "stream",
     "text": [
      "<class 'pandas.core.frame.DataFrame'>\n",
      "RangeIndex: 10841 entries, 0 to 10840\n",
      "Data columns (total 13 columns):\n",
      "App               10841 non-null object\n",
      "Category          10841 non-null object\n",
      "Rating            10841 non-null float64\n",
      "Reviews           10841 non-null object\n",
      "Size              10841 non-null object\n",
      "Installs          10841 non-null object\n",
      "Type              10841 non-null object\n",
      "Price             10841 non-null object\n",
      "Content Rating    10841 non-null object\n",
      "Genres            10841 non-null object\n",
      "Last Updated      10841 non-null object\n",
      "Current Ver       10841 non-null object\n",
      "Android Ver       10841 non-null object\n",
      "dtypes: float64(1), object(12)\n",
      "memory usage: 1.1+ MB\n"
     ]
    }
   ],
   "source": [
    "#на этом с пустыми записями мы закончили, больше их нет\n",
    "data_train.info()"
   ]
  },
  {
   "cell_type": "markdown",
   "metadata": {},
   "source": [
    "## преобразовали типы"
   ]
  },
  {
   "cell_type": "code",
   "execution_count": 12,
   "metadata": {},
   "outputs": [],
   "source": [
    "#преобразовываем типы где можем. \n",
    "#Reviews - количество отзывов. преобразовываем в целое число. сейчас тип object\n",
    "data_train.loc[:,'Reviews'] = data_train.loc[:,'Reviews'].astype(np.int64)"
   ]
  },
  {
   "cell_type": "code",
   "execution_count": 13,
   "metadata": {},
   "outputs": [],
   "source": [
    "# Installs - количество установок приложения\n",
    "# у поля Installs надо убрать плюсы где есть, убрать разделители запятые и преобразовать\n",
    "# преобразовываем в целое число. сейчас тип object\n",
    "data_train['Installs_int'] = data_train['Installs'].apply(lambda x: x.replace('+','').replace(',','')).astype(np.int64)"
   ]
  },
  {
   "cell_type": "code",
   "execution_count": 14,
   "metadata": {},
   "outputs": [
    {
     "data": {
      "text/html": [
       "<div>\n",
       "<style scoped>\n",
       "    .dataframe tbody tr th:only-of-type {\n",
       "        vertical-align: middle;\n",
       "    }\n",
       "\n",
       "    .dataframe tbody tr th {\n",
       "        vertical-align: top;\n",
       "    }\n",
       "\n",
       "    .dataframe thead th {\n",
       "        text-align: right;\n",
       "    }\n",
       "</style>\n",
       "<table border=\"1\" class=\"dataframe\">\n",
       "  <thead>\n",
       "    <tr style=\"text-align: right;\">\n",
       "      <th></th>\n",
       "      <th>App</th>\n",
       "      <th>Category</th>\n",
       "      <th>Rating</th>\n",
       "      <th>Reviews</th>\n",
       "      <th>Size</th>\n",
       "      <th>Installs</th>\n",
       "      <th>Type</th>\n",
       "      <th>Price</th>\n",
       "      <th>Content Rating</th>\n",
       "      <th>Genres</th>\n",
       "      <th>Last Updated</th>\n",
       "      <th>Current Ver</th>\n",
       "      <th>Android Ver</th>\n",
       "      <th>Installs_int</th>\n",
       "    </tr>\n",
       "  </thead>\n",
       "  <tbody>\n",
       "    <tr>\n",
       "      <th>2454</th>\n",
       "      <td>KBA-EZ Health Guide</td>\n",
       "      <td>MEDICAL</td>\n",
       "      <td>5.0</td>\n",
       "      <td>4</td>\n",
       "      <td>25M</td>\n",
       "      <td>1+</td>\n",
       "      <td>Free</td>\n",
       "      <td>0</td>\n",
       "      <td>Everyone</td>\n",
       "      <td>Medical</td>\n",
       "      <td>August 2, 2018</td>\n",
       "      <td>1.0.72</td>\n",
       "      <td>4.0.3 and up</td>\n",
       "      <td>1</td>\n",
       "    </tr>\n",
       "    <tr>\n",
       "      <th>4550</th>\n",
       "      <td>RMEduS - 음성인식을 활용한 R 프로그래밍 실습 시스템</td>\n",
       "      <td>FAMILY</td>\n",
       "      <td>0.0</td>\n",
       "      <td>4</td>\n",
       "      <td>64M</td>\n",
       "      <td>1+</td>\n",
       "      <td>Free</td>\n",
       "      <td>0</td>\n",
       "      <td>Everyone</td>\n",
       "      <td>Education</td>\n",
       "      <td>July 17, 2018</td>\n",
       "      <td>1.0.1</td>\n",
       "      <td>4.4 and up</td>\n",
       "      <td>1</td>\n",
       "    </tr>\n",
       "    <tr>\n",
       "      <th>4663</th>\n",
       "      <td>Alarmy (Sleep If U Can) - Pro</td>\n",
       "      <td>LIFESTYLE</td>\n",
       "      <td>4.8</td>\n",
       "      <td>10249</td>\n",
       "      <td>Varies with device</td>\n",
       "      <td>10,000+</td>\n",
       "      <td>Paid</td>\n",
       "      <td>$2.49</td>\n",
       "      <td>Everyone</td>\n",
       "      <td>Lifestyle</td>\n",
       "      <td>July 30, 2018</td>\n",
       "      <td>Varies with device</td>\n",
       "      <td>Varies with device</td>\n",
       "      <td>10000</td>\n",
       "    </tr>\n",
       "    <tr>\n",
       "      <th>5812</th>\n",
       "      <td>AX Watch for WatchMaker</td>\n",
       "      <td>PERSONALIZATION</td>\n",
       "      <td>0.0</td>\n",
       "      <td>2</td>\n",
       "      <td>238k</td>\n",
       "      <td>1+</td>\n",
       "      <td>Paid</td>\n",
       "      <td>$0.99</td>\n",
       "      <td>Everyone</td>\n",
       "      <td>Personalization</td>\n",
       "      <td>August 18, 2017</td>\n",
       "      <td>1.0</td>\n",
       "      <td>2.3 and up</td>\n",
       "      <td>1</td>\n",
       "    </tr>\n",
       "    <tr>\n",
       "      <th>5917</th>\n",
       "      <td>Ra Ga Ba</td>\n",
       "      <td>GAME</td>\n",
       "      <td>5.0</td>\n",
       "      <td>2</td>\n",
       "      <td>20M</td>\n",
       "      <td>1+</td>\n",
       "      <td>Paid</td>\n",
       "      <td>$1.49</td>\n",
       "      <td>Everyone</td>\n",
       "      <td>Arcade</td>\n",
       "      <td>February 8, 2017</td>\n",
       "      <td>1.0.4</td>\n",
       "      <td>2.3 and up</td>\n",
       "      <td>1</td>\n",
       "    </tr>\n",
       "    <tr>\n",
       "      <th>6508</th>\n",
       "      <td>Sam.BN Pro</td>\n",
       "      <td>TOOLS</td>\n",
       "      <td>0.0</td>\n",
       "      <td>11</td>\n",
       "      <td>2.0M</td>\n",
       "      <td>10+</td>\n",
       "      <td>Paid</td>\n",
       "      <td>$0.99</td>\n",
       "      <td>Everyone</td>\n",
       "      <td>Tools</td>\n",
       "      <td>March 27, 2015</td>\n",
       "      <td>1.0.0</td>\n",
       "      <td>4.0.3 and up</td>\n",
       "      <td>10</td>\n",
       "    </tr>\n",
       "    <tr>\n",
       "      <th>6700</th>\n",
       "      <td>Brick Breaker BR</td>\n",
       "      <td>GAME</td>\n",
       "      <td>5.0</td>\n",
       "      <td>7</td>\n",
       "      <td>19M</td>\n",
       "      <td>5+</td>\n",
       "      <td>Free</td>\n",
       "      <td>0</td>\n",
       "      <td>Everyone</td>\n",
       "      <td>Arcade</td>\n",
       "      <td>July 23, 2018</td>\n",
       "      <td>1.0</td>\n",
       "      <td>4.1 and up</td>\n",
       "      <td>5</td>\n",
       "    </tr>\n",
       "    <tr>\n",
       "      <th>7402</th>\n",
       "      <td>Trovami se ci riesci</td>\n",
       "      <td>GAME</td>\n",
       "      <td>5.0</td>\n",
       "      <td>11</td>\n",
       "      <td>6.1M</td>\n",
       "      <td>10+</td>\n",
       "      <td>Free</td>\n",
       "      <td>0</td>\n",
       "      <td>Everyone</td>\n",
       "      <td>Arcade</td>\n",
       "      <td>March 11, 2017</td>\n",
       "      <td>0.1</td>\n",
       "      <td>2.3 and up</td>\n",
       "      <td>10</td>\n",
       "    </tr>\n",
       "    <tr>\n",
       "      <th>8591</th>\n",
       "      <td>DN Blog</td>\n",
       "      <td>SOCIAL</td>\n",
       "      <td>5.0</td>\n",
       "      <td>20</td>\n",
       "      <td>4.2M</td>\n",
       "      <td>10+</td>\n",
       "      <td>Free</td>\n",
       "      <td>0</td>\n",
       "      <td>Teen</td>\n",
       "      <td>Social</td>\n",
       "      <td>July 23, 2018</td>\n",
       "      <td>1.0</td>\n",
       "      <td>4.0 and up</td>\n",
       "      <td>10</td>\n",
       "    </tr>\n",
       "    <tr>\n",
       "      <th>9096</th>\n",
       "      <td>DZ Puzzle</td>\n",
       "      <td>FAMILY</td>\n",
       "      <td>0.0</td>\n",
       "      <td>14</td>\n",
       "      <td>47M</td>\n",
       "      <td>10+</td>\n",
       "      <td>Paid</td>\n",
       "      <td>$0.99</td>\n",
       "      <td>Everyone</td>\n",
       "      <td>Puzzle</td>\n",
       "      <td>April 22, 2017</td>\n",
       "      <td>1.2</td>\n",
       "      <td>2.3 and up</td>\n",
       "      <td>10</td>\n",
       "    </tr>\n",
       "    <tr>\n",
       "      <th>10697</th>\n",
       "      <td>Mu.F.O.</td>\n",
       "      <td>GAME</td>\n",
       "      <td>5.0</td>\n",
       "      <td>2</td>\n",
       "      <td>16M</td>\n",
       "      <td>1+</td>\n",
       "      <td>Paid</td>\n",
       "      <td>$0.99</td>\n",
       "      <td>Everyone</td>\n",
       "      <td>Arcade</td>\n",
       "      <td>March 3, 2017</td>\n",
       "      <td>1.0</td>\n",
       "      <td>2.3 and up</td>\n",
       "      <td>1</td>\n",
       "    </tr>\n",
       "  </tbody>\n",
       "</table>\n",
       "</div>"
      ],
      "text/plain": [
       "                                     App         Category  Rating  Reviews  \\\n",
       "2454                 KBA-EZ Health Guide          MEDICAL     5.0        4   \n",
       "4550   RMEduS - 음성인식을 활용한 R 프로그래밍 실습 시스템           FAMILY     0.0        4   \n",
       "4663       Alarmy (Sleep If U Can) - Pro        LIFESTYLE     4.8    10249   \n",
       "5812             AX Watch for WatchMaker  PERSONALIZATION     0.0        2   \n",
       "5917                            Ra Ga Ba             GAME     5.0        2   \n",
       "6508                          Sam.BN Pro            TOOLS     0.0       11   \n",
       "6700                    Brick Breaker BR             GAME     5.0        7   \n",
       "7402                Trovami se ci riesci             GAME     5.0       11   \n",
       "8591                             DN Blog           SOCIAL     5.0       20   \n",
       "9096                           DZ Puzzle           FAMILY     0.0       14   \n",
       "10697                            Mu.F.O.             GAME     5.0        2   \n",
       "\n",
       "                     Size Installs  Type  Price Content Rating  \\\n",
       "2454                  25M       1+  Free      0       Everyone   \n",
       "4550                  64M       1+  Free      0       Everyone   \n",
       "4663   Varies with device  10,000+  Paid  $2.49       Everyone   \n",
       "5812                 238k       1+  Paid  $0.99       Everyone   \n",
       "5917                  20M       1+  Paid  $1.49       Everyone   \n",
       "6508                 2.0M      10+  Paid  $0.99       Everyone   \n",
       "6700                  19M       5+  Free      0       Everyone   \n",
       "7402                 6.1M      10+  Free      0       Everyone   \n",
       "8591                 4.2M      10+  Free      0           Teen   \n",
       "9096                  47M      10+  Paid  $0.99       Everyone   \n",
       "10697                 16M       1+  Paid  $0.99       Everyone   \n",
       "\n",
       "                Genres      Last Updated         Current Ver  \\\n",
       "2454           Medical    August 2, 2018              1.0.72   \n",
       "4550         Education     July 17, 2018               1.0.1   \n",
       "4663         Lifestyle     July 30, 2018  Varies with device   \n",
       "5812   Personalization   August 18, 2017                 1.0   \n",
       "5917            Arcade  February 8, 2017               1.0.4   \n",
       "6508             Tools    March 27, 2015               1.0.0   \n",
       "6700            Arcade     July 23, 2018                 1.0   \n",
       "7402            Arcade    March 11, 2017                 0.1   \n",
       "8591            Social     July 23, 2018                 1.0   \n",
       "9096            Puzzle    April 22, 2017                 1.2   \n",
       "10697           Arcade     March 3, 2017                 1.0   \n",
       "\n",
       "              Android Ver  Installs_int  \n",
       "2454         4.0.3 and up             1  \n",
       "4550           4.4 and up             1  \n",
       "4663   Varies with device         10000  \n",
       "5812           2.3 and up             1  \n",
       "5917           2.3 and up             1  \n",
       "6508         4.0.3 and up            10  \n",
       "6700           4.1 and up             5  \n",
       "7402           2.3 and up            10  \n",
       "8591           4.0 and up            10  \n",
       "9096           2.3 and up            10  \n",
       "10697          2.3 and up             1  "
      ]
     },
     "execution_count": 14,
     "metadata": {},
     "output_type": "execute_result"
    }
   ],
   "source": [
    "# вообще конечно в количестве установок плюс означает \"больше чем\"\n",
    "# то есть 1+ это больше 1, но меньше 10\n",
    "# и отбрасывая \"+\" мы получаем часть некооректных записей, у которых количество отзывов больше чем количество установок\n",
    "# но таких записей не много, мы оставим как есть\n",
    "data_train.loc[data_train['Reviews'] > data_train['Installs_int']]"
   ]
  },
  {
   "cell_type": "code",
   "execution_count": 15,
   "metadata": {},
   "outputs": [],
   "source": [
    "# Price - цена приложения\n",
    "# содержит знак доллара. уберем его и преобразуем\n",
    "# преобразовываем в нецелое число. сейчас тип object\n",
    "data_train['Price_float'] = data_train['Price'].apply(lambda x: x.replace('$','')).astype(np.float32)"
   ]
  },
  {
   "cell_type": "code",
   "execution_count": 16,
   "metadata": {},
   "outputs": [
    {
     "data": {
      "text/html": [
       "<div>\n",
       "<style scoped>\n",
       "    .dataframe tbody tr th:only-of-type {\n",
       "        vertical-align: middle;\n",
       "    }\n",
       "\n",
       "    .dataframe tbody tr th {\n",
       "        vertical-align: top;\n",
       "    }\n",
       "\n",
       "    .dataframe thead th {\n",
       "        text-align: right;\n",
       "    }\n",
       "</style>\n",
       "<table border=\"1\" class=\"dataframe\">\n",
       "  <thead>\n",
       "    <tr style=\"text-align: right;\">\n",
       "      <th></th>\n",
       "      <th>App</th>\n",
       "      <th>Category</th>\n",
       "      <th>Rating</th>\n",
       "      <th>Reviews</th>\n",
       "      <th>Size</th>\n",
       "      <th>Installs</th>\n",
       "      <th>Type</th>\n",
       "      <th>Price</th>\n",
       "      <th>Content Rating</th>\n",
       "      <th>Genres</th>\n",
       "      <th>Last Updated</th>\n",
       "      <th>Current Ver</th>\n",
       "      <th>Android Ver</th>\n",
       "      <th>Installs_int</th>\n",
       "      <th>Price_float</th>\n",
       "    </tr>\n",
       "  </thead>\n",
       "  <tbody>\n",
       "  </tbody>\n",
       "</table>\n",
       "</div>"
      ],
      "text/plain": [
       "Empty DataFrame\n",
       "Columns: [App, Category, Rating, Reviews, Size, Installs, Type, Price, Content Rating, Genres, Last Updated, Current Ver, Android Ver, Installs_int, Price_float]\n",
       "Index: []"
      ]
     },
     "execution_count": 16,
     "metadata": {},
     "output_type": "execute_result"
    }
   ],
   "source": [
    "# проверим как тип соотносится с ценой. есть ли записи у который тип бесплатная, но стоит цена\n",
    "# таких записей нет\n",
    "data_train.loc[(data_train['Price_float'] > 0) & (data_train['Type'] == 'Free')]"
   ]
  },
  {
   "cell_type": "code",
   "execution_count": 17,
   "metadata": {},
   "outputs": [
    {
     "data": {
      "text/html": [
       "<div>\n",
       "<style scoped>\n",
       "    .dataframe tbody tr th:only-of-type {\n",
       "        vertical-align: middle;\n",
       "    }\n",
       "\n",
       "    .dataframe tbody tr th {\n",
       "        vertical-align: top;\n",
       "    }\n",
       "\n",
       "    .dataframe thead th {\n",
       "        text-align: right;\n",
       "    }\n",
       "</style>\n",
       "<table border=\"1\" class=\"dataframe\">\n",
       "  <thead>\n",
       "    <tr style=\"text-align: right;\">\n",
       "      <th></th>\n",
       "      <th>App</th>\n",
       "      <th>Category</th>\n",
       "      <th>Rating</th>\n",
       "      <th>Reviews</th>\n",
       "      <th>Size</th>\n",
       "      <th>Installs</th>\n",
       "      <th>Type</th>\n",
       "      <th>Price</th>\n",
       "      <th>Content Rating</th>\n",
       "      <th>Genres</th>\n",
       "      <th>Last Updated</th>\n",
       "      <th>Current Ver</th>\n",
       "      <th>Android Ver</th>\n",
       "      <th>Installs_int</th>\n",
       "      <th>Price_float</th>\n",
       "    </tr>\n",
       "  </thead>\n",
       "  <tbody>\n",
       "  </tbody>\n",
       "</table>\n",
       "</div>"
      ],
      "text/plain": [
       "Empty DataFrame\n",
       "Columns: [App, Category, Rating, Reviews, Size, Installs, Type, Price, Content Rating, Genres, Last Updated, Current Ver, Android Ver, Installs_int, Price_float]\n",
       "Index: []"
      ]
     },
     "execution_count": 17,
     "metadata": {},
     "output_type": "execute_result"
    }
   ],
   "source": [
    "# проверим наоборот. есть ли записи у который тип платная, но цена 0\n",
    "# таких записей нет\n",
    "data_train.loc[(data_train['Price_float'] == 0) & (data_train['Type'] != 'Free')]"
   ]
  },
  {
   "cell_type": "markdown",
   "metadata": {},
   "source": [
    "## посмотрим внимательно на данные. Рейтинг, цена, количество установок, количество отзывов"
   ]
  },
  {
   "cell_type": "code",
   "execution_count": 18,
   "metadata": {},
   "outputs": [
    {
     "data": {
      "text/html": [
       "<div>\n",
       "<style scoped>\n",
       "    .dataframe tbody tr th:only-of-type {\n",
       "        vertical-align: middle;\n",
       "    }\n",
       "\n",
       "    .dataframe tbody tr th {\n",
       "        vertical-align: top;\n",
       "    }\n",
       "\n",
       "    .dataframe thead th {\n",
       "        text-align: right;\n",
       "    }\n",
       "</style>\n",
       "<table border=\"1\" class=\"dataframe\">\n",
       "  <thead>\n",
       "    <tr style=\"text-align: right;\">\n",
       "      <th></th>\n",
       "      <th>Rating</th>\n",
       "      <th>Reviews</th>\n",
       "      <th>Installs_int</th>\n",
       "      <th>Price_float</th>\n",
       "    </tr>\n",
       "  </thead>\n",
       "  <tbody>\n",
       "    <tr>\n",
       "      <th>Rating</th>\n",
       "      <td>1.000000</td>\n",
       "      <td>0.078613</td>\n",
       "      <td>0.084643</td>\n",
       "      <td>-0.016338</td>\n",
       "    </tr>\n",
       "    <tr>\n",
       "      <th>Reviews</th>\n",
       "      <td>0.078613</td>\n",
       "      <td>1.000000</td>\n",
       "      <td>0.643123</td>\n",
       "      <td>-0.009666</td>\n",
       "    </tr>\n",
       "    <tr>\n",
       "      <th>Installs_int</th>\n",
       "      <td>0.084643</td>\n",
       "      <td>0.643123</td>\n",
       "      <td>1.000000</td>\n",
       "      <td>-0.011688</td>\n",
       "    </tr>\n",
       "    <tr>\n",
       "      <th>Price_float</th>\n",
       "      <td>-0.016338</td>\n",
       "      <td>-0.009666</td>\n",
       "      <td>-0.011688</td>\n",
       "      <td>1.000000</td>\n",
       "    </tr>\n",
       "  </tbody>\n",
       "</table>\n",
       "</div>"
      ],
      "text/plain": [
       "                Rating   Reviews  Installs_int  Price_float\n",
       "Rating        1.000000  0.078613      0.084643    -0.016338\n",
       "Reviews       0.078613  1.000000      0.643123    -0.009666\n",
       "Installs_int  0.084643  0.643123      1.000000    -0.011688\n",
       "Price_float  -0.016338 -0.009666     -0.011688     1.000000"
      ]
     },
     "execution_count": 18,
     "metadata": {},
     "output_type": "execute_result"
    }
   ],
   "source": [
    "# посомтрим на матрицу корреляции\n",
    "# получается у нас больше всего коррелирует на данный момент количество установок и количество отзывов\n",
    "# и это логично, чем больше приложение ставят, тем больше отзывов\n",
    "# а вот рейтинг не коррелирует ни с чем\n",
    "data_train.corr()"
   ]
  },
  {
   "cell_type": "code",
   "execution_count": 19,
   "metadata": {},
   "outputs": [
    {
     "data": {
      "text/html": [
       "<div>\n",
       "<style scoped>\n",
       "    .dataframe tbody tr th:only-of-type {\n",
       "        vertical-align: middle;\n",
       "    }\n",
       "\n",
       "    .dataframe tbody tr th {\n",
       "        vertical-align: top;\n",
       "    }\n",
       "\n",
       "    .dataframe thead th {\n",
       "        text-align: right;\n",
       "    }\n",
       "</style>\n",
       "<table border=\"1\" class=\"dataframe\">\n",
       "  <thead>\n",
       "    <tr style=\"text-align: right;\">\n",
       "      <th></th>\n",
       "      <th>Rating</th>\n",
       "      <th>Reviews</th>\n",
       "      <th>Installs_int</th>\n",
       "      <th>Price_float</th>\n",
       "    </tr>\n",
       "  </thead>\n",
       "  <tbody>\n",
       "    <tr>\n",
       "      <th>count</th>\n",
       "      <td>10841.000000</td>\n",
       "      <td>1.084100e+04</td>\n",
       "      <td>1.084100e+04</td>\n",
       "      <td>10841.000000</td>\n",
       "    </tr>\n",
       "    <tr>\n",
       "      <th>mean</th>\n",
       "      <td>3.621612</td>\n",
       "      <td>4.441119e+05</td>\n",
       "      <td>1.546291e+07</td>\n",
       "      <td>1.027282</td>\n",
       "    </tr>\n",
       "    <tr>\n",
       "      <th>std</th>\n",
       "      <td>1.514584</td>\n",
       "      <td>2.927629e+06</td>\n",
       "      <td>8.502557e+07</td>\n",
       "      <td>15.948182</td>\n",
       "    </tr>\n",
       "    <tr>\n",
       "      <th>min</th>\n",
       "      <td>0.000000</td>\n",
       "      <td>0.000000e+00</td>\n",
       "      <td>0.000000e+00</td>\n",
       "      <td>0.000000</td>\n",
       "    </tr>\n",
       "    <tr>\n",
       "      <th>25%</th>\n",
       "      <td>3.700000</td>\n",
       "      <td>3.800000e+01</td>\n",
       "      <td>1.000000e+03</td>\n",
       "      <td>0.000000</td>\n",
       "    </tr>\n",
       "    <tr>\n",
       "      <th>50%</th>\n",
       "      <td>4.200000</td>\n",
       "      <td>2.094000e+03</td>\n",
       "      <td>1.000000e+05</td>\n",
       "      <td>0.000000</td>\n",
       "    </tr>\n",
       "    <tr>\n",
       "      <th>75%</th>\n",
       "      <td>4.500000</td>\n",
       "      <td>5.476800e+04</td>\n",
       "      <td>5.000000e+06</td>\n",
       "      <td>0.000000</td>\n",
       "    </tr>\n",
       "    <tr>\n",
       "      <th>max</th>\n",
       "      <td>5.000000</td>\n",
       "      <td>7.815831e+07</td>\n",
       "      <td>1.000000e+09</td>\n",
       "      <td>400.000000</td>\n",
       "    </tr>\n",
       "  </tbody>\n",
       "</table>\n",
       "</div>"
      ],
      "text/plain": [
       "             Rating       Reviews  Installs_int   Price_float\n",
       "count  10841.000000  1.084100e+04  1.084100e+04  10841.000000\n",
       "mean       3.621612  4.441119e+05  1.546291e+07      1.027282\n",
       "std        1.514584  2.927629e+06  8.502557e+07     15.948182\n",
       "min        0.000000  0.000000e+00  0.000000e+00      0.000000\n",
       "25%        3.700000  3.800000e+01  1.000000e+03      0.000000\n",
       "50%        4.200000  2.094000e+03  1.000000e+05      0.000000\n",
       "75%        4.500000  5.476800e+04  5.000000e+06      0.000000\n",
       "max        5.000000  7.815831e+07  1.000000e+09    400.000000"
      ]
     },
     "execution_count": 19,
     "metadata": {},
     "output_type": "execute_result"
    }
   ],
   "source": [
    "#в таблице видим среднее арифметическое и среднее квадратичное отклонение\n",
    "data_train.describe()"
   ]
  },
  {
   "cell_type": "markdown",
   "metadata": {},
   "source": [
    "### Рейтинг"
   ]
  },
  {
   "cell_type": "code",
   "execution_count": 20,
   "metadata": {},
   "outputs": [
    {
     "data": {
      "image/png": "[encoded data removed]",
      "text/plain": [
       "<Figure size 432x288 with 1 Axes>"
      ]
     },
     "metadata": {
      "needs_background": "light"
     },
     "output_type": "display_data"
    }
   ],
   "source": [
    "# посмотрим на эти данные\n",
    "# рейтинг уже смотрели. +- похож на нормальное распределение\n",
    "plt.hist(data_train['Rating'], bins = 21)\n",
    "plt.show()"
   ]
  },
  {
   "cell_type": "code",
   "execution_count": 21,
   "metadata": {},
   "outputs": [
    {
     "data": {
      "image/png": "[encoded data removed]",
      "text/plain": [
       "<Figure size 432x288 with 1 Axes>"
      ]
     },
     "metadata": {
      "needs_background": "light"
     },
     "output_type": "display_data"
    }
   ],
   "source": [
    "# посмотрим на рейтинг на другом графике\n",
    "sns.boxplot(data_train['Rating'], orient='v')\n",
    "plt.show()"
   ]
  },
  {
   "cell_type": "code",
   "execution_count": 22,
   "metadata": {},
   "outputs": [],
   "source": [
    "# посчитаем основные показатели\n",
    "def stat_ind(a):\n",
    "    print(\"мат ожидание: \", a.mean()) # мат ожидание/среднее арифметическое\n",
    "    print(\"среднее квадратичное отклонение: \", a.std(ddof=0)) # среднее квадратичное отклонение\n",
    "    print(\"смещенная оценка дисперсии: \", a.var(ddof=0)) # смещенная оценка дисперсии\n",
    "    print(\"несмещенная оценка дисперсии: \", a.var(ddof=1)) #несмещенная оценка дисперсии\n",
    "    print(\"медиана: \", a.median()) #медиана\n",
    "    print(\"мода: \", a.mode()) #мода"
   ]
  },
  {
   "cell_type": "code",
   "execution_count": 23,
   "metadata": {},
   "outputs": [
    {
     "name": "stdout",
     "output_type": "stream",
     "text": [
      "мат ожидание:  3.6216123973803205\n",
      "среднее квадратичное отклонение:  1.5145138072176427\n",
      "смещенная оценка дисперсии:  2.293752072252879\n",
      "несмещенная оценка дисперсии:  2.2939636729975517\n",
      "медиана:  4.2\n",
      "мода:  0    0.0\n",
      "dtype: float64\n"
     ]
    }
   ],
   "source": [
    "# основные показатели для рейтинга\n",
    "stat_ind(data_train['Rating'])"
   ]
  },
  {
   "cell_type": "markdown",
   "metadata": {},
   "source": [
    "### Количество отзывов"
   ]
  },
  {
   "cell_type": "code",
   "execution_count": 24,
   "metadata": {},
   "outputs": [
    {
     "data": {
      "image/png": "[encoded data removed]",
      "text/plain": [
       "<Figure size 432x288 with 1 Axes>"
      ]
     },
     "metadata": {
      "needs_background": "light"
     },
     "output_type": "display_data"
    }
   ],
   "source": [
    "# количество отзывов. на нормальное распределение не похоже\n",
    "# больша часть значений лежит на промежутке от 0 до 10 000 000\n",
    "plt.hist(data_train['Reviews'], bins = 5)\n",
    "plt.show()"
   ]
  },
  {
   "cell_type": "code",
   "execution_count": 25,
   "metadata": {},
   "outputs": [
    {
     "data": {
      "text/plain": [
       "92"
      ]
     },
     "execution_count": 25,
     "metadata": {},
     "output_type": "execute_result"
    }
   ],
   "source": [
    "# количество отзывов. есть 92 записи, у которых количество отзывов > 10 000 000.0\n",
    "# ну то есть таких записей правда много, нет смысла смотреть на них детально\n",
    "len(data_train.loc[data_train['Reviews'] > 10000000])"
   ]
  },
  {
   "cell_type": "code",
   "execution_count": 26,
   "metadata": {},
   "outputs": [
    {
     "data": {
      "image/png": "[encoded data removed]",
      "text/plain": [
       "<Figure size 432x288 with 1 Axes>"
      ]
     },
     "metadata": {
      "needs_background": "light"
     },
     "output_type": "display_data"
    }
   ],
   "source": [
    "# посмотрим на количество отзывов в промежутке от 0 до 10 000 000.0\n",
    "plt.hist(data_train.loc[data_train['Reviews'] < 10000000, 'Reviews'], bins = 20)\n",
    "plt.show()"
   ]
  },
  {
   "cell_type": "code",
   "execution_count": 27,
   "metadata": {},
   "outputs": [
    {
     "data": {
      "image/png": "[encoded data removed]",
      "text/plain": [
       "<Figure size 432x288 with 1 Axes>"
      ]
     },
     "metadata": {
      "needs_background": "light"
     },
     "output_type": "display_data"
    }
   ],
   "source": [
    "# посмотрим на количество отзывов в промежутке от 0 до 400 000\n",
    "# в общем точно не похоже нормальное распределение\n",
    "plt.hist(data_train.loc[data_train['Reviews'] < 400000, 'Reviews'], bins = 20)\n",
    "plt.show()"
   ]
  },
  {
   "cell_type": "code",
   "execution_count": 28,
   "metadata": {},
   "outputs": [
    {
     "name": "stdout",
     "output_type": "stream",
     "text": [
      "мат ожидание:  444111.9280509178\n",
      "среднее квадратичное отклонение:  2927493.635094005\n",
      "смещенная оценка дисперсии:  8570218983515.913\n",
      "несмещенная оценка дисперсии:  8571009594123.249\n",
      "медиана:  2094.0\n",
      "мода:  0    0\n",
      "dtype: int64\n"
     ]
    }
   ],
   "source": [
    "# посчитаем основные показатели для количества отзывов\n",
    "stat_ind(data_train['Reviews'])"
   ]
  },
  {
   "cell_type": "markdown",
   "metadata": {},
   "source": [
    "### Количество установок"
   ]
  },
  {
   "cell_type": "code",
   "execution_count": 29,
   "metadata": {},
   "outputs": [
    {
     "data": {
      "image/png": "[encoded data removed]",
      "text/plain": [
       "<Figure size 432x288 with 1 Axes>"
      ]
     },
     "metadata": {
      "needs_background": "light"
     },
     "output_type": "display_data"
    }
   ],
   "source": [
    "# количество установок. на нормальное распределение так же не похоже\n",
    "# примерно такая же картина как у отзывов. есть аномальные значения.\n",
    "# большая часть значений на промежутке до 200 000 000\n",
    "# в общем тоже не похоже нормальное распределение\n",
    "plt.hist(data_train['Installs_int'], bins = 10)\n",
    "plt.show()"
   ]
  },
  {
   "cell_type": "code",
   "execution_count": 30,
   "metadata": {},
   "outputs": [
    {
     "data": {
      "text/plain": [
       "130"
      ]
     },
     "execution_count": 30,
     "metadata": {},
     "output_type": "execute_result"
    }
   ],
   "source": [
    "# количество установок. есть 130 записи, у которых количество отзывов > 200 000 000.0\n",
    "# ну то есть таких записей правда много, нет смысла смотреть на них детально\n",
    "len(data_train.loc[data_train['Installs_int'] > 200000000])"
   ]
  },
  {
   "cell_type": "code",
   "execution_count": 31,
   "metadata": {},
   "outputs": [
    {
     "name": "stdout",
     "output_type": "stream",
     "text": [
      "мат ожидание:  15462912.50687206\n",
      "среднее квадратичное отклонение:  85021647.41960888\n",
      "смещенная оценка дисперсии:  7228680529944284.0\n",
      "несмещенная оценка дисперсии:  7229347382391695.0\n",
      "медиана:  100000.0\n",
      "мода:  0    1000000\n",
      "dtype: int64\n"
     ]
    }
   ],
   "source": [
    "# посчитаем основные показатели для количества установок\n",
    "stat_ind(data_train['Installs_int'])"
   ]
  },
  {
   "cell_type": "markdown",
   "metadata": {},
   "source": [
    "### Цена приложения"
   ]
  },
  {
   "cell_type": "code",
   "execution_count": 32,
   "metadata": {},
   "outputs": [
    {
     "data": {
      "image/png": "[encoded data removed]",
      "text/plain": [
       "<Figure size 432x288 with 1 Axes>"
      ]
     },
     "metadata": {
      "needs_background": "light"
     },
     "output_type": "display_data"
    }
   ],
   "source": [
    "# цена приложения. на нормальное распределение так же не похоже\n",
    "plt.hist(data_train.loc[data_train['Type'] != 'Free', 'Price_float'], bins = 5)\n",
    "plt.show()"
   ]
  },
  {
   "cell_type": "code",
   "execution_count": 33,
   "metadata": {},
   "outputs": [
    {
     "data": {
      "image/png": "[encoded data removed]",
      "text/plain": [
       "<Figure size 432x288 with 1 Axes>"
      ]
     },
     "metadata": {
      "needs_background": "light"
     },
     "output_type": "display_data"
    }
   ],
   "source": [
    "# цена приложения. есть несколько значений больше 300, их не много\n",
    "plt.hist(data_train.loc[data_train['Price_float'] > 300, 'Price_float'], bins = 20)\n",
    "plt.show()"
   ]
  },
  {
   "cell_type": "code",
   "execution_count": 34,
   "metadata": {},
   "outputs": [
    {
     "data": {
      "text/html": [
       "<div>\n",
       "<style scoped>\n",
       "    .dataframe tbody tr th:only-of-type {\n",
       "        vertical-align: middle;\n",
       "    }\n",
       "\n",
       "    .dataframe tbody tr th {\n",
       "        vertical-align: top;\n",
       "    }\n",
       "\n",
       "    .dataframe thead th {\n",
       "        text-align: right;\n",
       "    }\n",
       "</style>\n",
       "<table border=\"1\" class=\"dataframe\">\n",
       "  <thead>\n",
       "    <tr style=\"text-align: right;\">\n",
       "      <th></th>\n",
       "      <th>App</th>\n",
       "      <th>Category</th>\n",
       "      <th>Rating</th>\n",
       "      <th>Reviews</th>\n",
       "      <th>Size</th>\n",
       "      <th>Installs</th>\n",
       "      <th>Type</th>\n",
       "      <th>Price</th>\n",
       "      <th>Content Rating</th>\n",
       "      <th>Genres</th>\n",
       "      <th>Last Updated</th>\n",
       "      <th>Current Ver</th>\n",
       "      <th>Android Ver</th>\n",
       "      <th>Installs_int</th>\n",
       "      <th>Price_float</th>\n",
       "    </tr>\n",
       "  </thead>\n",
       "  <tbody>\n",
       "    <tr>\n",
       "      <th>4197</th>\n",
       "      <td>most expensive app (H)</td>\n",
       "      <td>FAMILY</td>\n",
       "      <td>4.3</td>\n",
       "      <td>6</td>\n",
       "      <td>1.5M</td>\n",
       "      <td>100+</td>\n",
       "      <td>Paid</td>\n",
       "      <td>$399.99</td>\n",
       "      <td>Everyone</td>\n",
       "      <td>Entertainment</td>\n",
       "      <td>July 16, 2018</td>\n",
       "      <td>1.0</td>\n",
       "      <td>7.0 and up</td>\n",
       "      <td>100</td>\n",
       "      <td>399.98999</td>\n",
       "    </tr>\n",
       "    <tr>\n",
       "      <th>4362</th>\n",
       "      <td>💎 I'm rich</td>\n",
       "      <td>LIFESTYLE</td>\n",
       "      <td>3.8</td>\n",
       "      <td>718</td>\n",
       "      <td>26M</td>\n",
       "      <td>10,000+</td>\n",
       "      <td>Paid</td>\n",
       "      <td>$399.99</td>\n",
       "      <td>Everyone</td>\n",
       "      <td>Lifestyle</td>\n",
       "      <td>March 11, 2018</td>\n",
       "      <td>1.0.0</td>\n",
       "      <td>4.4 and up</td>\n",
       "      <td>10000</td>\n",
       "      <td>399.98999</td>\n",
       "    </tr>\n",
       "    <tr>\n",
       "      <th>4367</th>\n",
       "      <td>I'm Rich - Trump Edition</td>\n",
       "      <td>LIFESTYLE</td>\n",
       "      <td>3.6</td>\n",
       "      <td>275</td>\n",
       "      <td>7.3M</td>\n",
       "      <td>10,000+</td>\n",
       "      <td>Paid</td>\n",
       "      <td>$400.00</td>\n",
       "      <td>Everyone</td>\n",
       "      <td>Lifestyle</td>\n",
       "      <td>May 3, 2018</td>\n",
       "      <td>1.0.1</td>\n",
       "      <td>4.1 and up</td>\n",
       "      <td>10000</td>\n",
       "      <td>400.00000</td>\n",
       "    </tr>\n",
       "    <tr>\n",
       "      <th>5351</th>\n",
       "      <td>I am rich</td>\n",
       "      <td>LIFESTYLE</td>\n",
       "      <td>3.8</td>\n",
       "      <td>3547</td>\n",
       "      <td>1.8M</td>\n",
       "      <td>100,000+</td>\n",
       "      <td>Paid</td>\n",
       "      <td>$399.99</td>\n",
       "      <td>Everyone</td>\n",
       "      <td>Lifestyle</td>\n",
       "      <td>January 12, 2018</td>\n",
       "      <td>2.0</td>\n",
       "      <td>4.0.3 and up</td>\n",
       "      <td>100000</td>\n",
       "      <td>399.98999</td>\n",
       "    </tr>\n",
       "    <tr>\n",
       "      <th>5354</th>\n",
       "      <td>I am Rich Plus</td>\n",
       "      <td>FAMILY</td>\n",
       "      <td>4.0</td>\n",
       "      <td>856</td>\n",
       "      <td>8.7M</td>\n",
       "      <td>10,000+</td>\n",
       "      <td>Paid</td>\n",
       "      <td>$399.99</td>\n",
       "      <td>Everyone</td>\n",
       "      <td>Entertainment</td>\n",
       "      <td>May 19, 2018</td>\n",
       "      <td>3.0</td>\n",
       "      <td>4.4 and up</td>\n",
       "      <td>10000</td>\n",
       "      <td>399.98999</td>\n",
       "    </tr>\n",
       "    <tr>\n",
       "      <th>5356</th>\n",
       "      <td>I Am Rich Premium</td>\n",
       "      <td>FINANCE</td>\n",
       "      <td>4.1</td>\n",
       "      <td>1867</td>\n",
       "      <td>4.7M</td>\n",
       "      <td>50,000+</td>\n",
       "      <td>Paid</td>\n",
       "      <td>$399.99</td>\n",
       "      <td>Everyone</td>\n",
       "      <td>Finance</td>\n",
       "      <td>November 12, 2017</td>\n",
       "      <td>1.6</td>\n",
       "      <td>4.0 and up</td>\n",
       "      <td>50000</td>\n",
       "      <td>399.98999</td>\n",
       "    </tr>\n",
       "    <tr>\n",
       "      <th>5357</th>\n",
       "      <td>I am extremely Rich</td>\n",
       "      <td>LIFESTYLE</td>\n",
       "      <td>2.9</td>\n",
       "      <td>41</td>\n",
       "      <td>2.9M</td>\n",
       "      <td>1,000+</td>\n",
       "      <td>Paid</td>\n",
       "      <td>$379.99</td>\n",
       "      <td>Everyone</td>\n",
       "      <td>Lifestyle</td>\n",
       "      <td>July 1, 2018</td>\n",
       "      <td>1.0</td>\n",
       "      <td>4.0 and up</td>\n",
       "      <td>1000</td>\n",
       "      <td>379.98999</td>\n",
       "    </tr>\n",
       "    <tr>\n",
       "      <th>5358</th>\n",
       "      <td>I am Rich!</td>\n",
       "      <td>FINANCE</td>\n",
       "      <td>3.8</td>\n",
       "      <td>93</td>\n",
       "      <td>22M</td>\n",
       "      <td>1,000+</td>\n",
       "      <td>Paid</td>\n",
       "      <td>$399.99</td>\n",
       "      <td>Everyone</td>\n",
       "      <td>Finance</td>\n",
       "      <td>December 11, 2017</td>\n",
       "      <td>1.0</td>\n",
       "      <td>4.1 and up</td>\n",
       "      <td>1000</td>\n",
       "      <td>399.98999</td>\n",
       "    </tr>\n",
       "    <tr>\n",
       "      <th>5359</th>\n",
       "      <td>I am rich(premium)</td>\n",
       "      <td>FINANCE</td>\n",
       "      <td>3.5</td>\n",
       "      <td>472</td>\n",
       "      <td>965k</td>\n",
       "      <td>5,000+</td>\n",
       "      <td>Paid</td>\n",
       "      <td>$399.99</td>\n",
       "      <td>Everyone</td>\n",
       "      <td>Finance</td>\n",
       "      <td>May 1, 2017</td>\n",
       "      <td>3.4</td>\n",
       "      <td>4.4 and up</td>\n",
       "      <td>5000</td>\n",
       "      <td>399.98999</td>\n",
       "    </tr>\n",
       "    <tr>\n",
       "      <th>5362</th>\n",
       "      <td>I Am Rich Pro</td>\n",
       "      <td>FAMILY</td>\n",
       "      <td>4.4</td>\n",
       "      <td>201</td>\n",
       "      <td>2.7M</td>\n",
       "      <td>5,000+</td>\n",
       "      <td>Paid</td>\n",
       "      <td>$399.99</td>\n",
       "      <td>Everyone</td>\n",
       "      <td>Entertainment</td>\n",
       "      <td>May 30, 2017</td>\n",
       "      <td>1.54</td>\n",
       "      <td>1.6 and up</td>\n",
       "      <td>5000</td>\n",
       "      <td>399.98999</td>\n",
       "    </tr>\n",
       "    <tr>\n",
       "      <th>5364</th>\n",
       "      <td>I am rich (Most expensive app)</td>\n",
       "      <td>FINANCE</td>\n",
       "      <td>4.1</td>\n",
       "      <td>129</td>\n",
       "      <td>2.7M</td>\n",
       "      <td>1,000+</td>\n",
       "      <td>Paid</td>\n",
       "      <td>$399.99</td>\n",
       "      <td>Teen</td>\n",
       "      <td>Finance</td>\n",
       "      <td>December 6, 2017</td>\n",
       "      <td>2</td>\n",
       "      <td>4.0.3 and up</td>\n",
       "      <td>1000</td>\n",
       "      <td>399.98999</td>\n",
       "    </tr>\n",
       "    <tr>\n",
       "      <th>5366</th>\n",
       "      <td>I Am Rich</td>\n",
       "      <td>FAMILY</td>\n",
       "      <td>3.6</td>\n",
       "      <td>217</td>\n",
       "      <td>4.9M</td>\n",
       "      <td>10,000+</td>\n",
       "      <td>Paid</td>\n",
       "      <td>$389.99</td>\n",
       "      <td>Everyone</td>\n",
       "      <td>Entertainment</td>\n",
       "      <td>June 22, 2018</td>\n",
       "      <td>1.5</td>\n",
       "      <td>4.2 and up</td>\n",
       "      <td>10000</td>\n",
       "      <td>389.98999</td>\n",
       "    </tr>\n",
       "    <tr>\n",
       "      <th>5369</th>\n",
       "      <td>I am Rich</td>\n",
       "      <td>FINANCE</td>\n",
       "      <td>4.3</td>\n",
       "      <td>180</td>\n",
       "      <td>3.8M</td>\n",
       "      <td>5,000+</td>\n",
       "      <td>Paid</td>\n",
       "      <td>$399.99</td>\n",
       "      <td>Everyone</td>\n",
       "      <td>Finance</td>\n",
       "      <td>March 22, 2018</td>\n",
       "      <td>1.0</td>\n",
       "      <td>4.2 and up</td>\n",
       "      <td>5000</td>\n",
       "      <td>399.98999</td>\n",
       "    </tr>\n",
       "    <tr>\n",
       "      <th>5373</th>\n",
       "      <td>I AM RICH PRO PLUS</td>\n",
       "      <td>FINANCE</td>\n",
       "      <td>4.0</td>\n",
       "      <td>36</td>\n",
       "      <td>41M</td>\n",
       "      <td>1,000+</td>\n",
       "      <td>Paid</td>\n",
       "      <td>$399.99</td>\n",
       "      <td>Everyone</td>\n",
       "      <td>Finance</td>\n",
       "      <td>June 25, 2018</td>\n",
       "      <td>1.0.2</td>\n",
       "      <td>4.1 and up</td>\n",
       "      <td>1000</td>\n",
       "      <td>399.98999</td>\n",
       "    </tr>\n",
       "    <tr>\n",
       "      <th>9917</th>\n",
       "      <td>Eu Sou Rico</td>\n",
       "      <td>FINANCE</td>\n",
       "      <td>0.0</td>\n",
       "      <td>0</td>\n",
       "      <td>1.4M</td>\n",
       "      <td>0+</td>\n",
       "      <td>Paid</td>\n",
       "      <td>$394.99</td>\n",
       "      <td>Everyone</td>\n",
       "      <td>Finance</td>\n",
       "      <td>July 11, 2018</td>\n",
       "      <td>1.0</td>\n",
       "      <td>4.0.3 and up</td>\n",
       "      <td>0</td>\n",
       "      <td>394.98999</td>\n",
       "    </tr>\n",
       "    <tr>\n",
       "      <th>9934</th>\n",
       "      <td>I'm Rich/Eu sou Rico/أنا غني/我很有錢</td>\n",
       "      <td>LIFESTYLE</td>\n",
       "      <td>0.0</td>\n",
       "      <td>0</td>\n",
       "      <td>40M</td>\n",
       "      <td>0+</td>\n",
       "      <td>Paid</td>\n",
       "      <td>$399.99</td>\n",
       "      <td>Everyone</td>\n",
       "      <td>Lifestyle</td>\n",
       "      <td>December 1, 2017</td>\n",
       "      <td>MONEY</td>\n",
       "      <td>4.1 and up</td>\n",
       "      <td>0</td>\n",
       "      <td>399.98999</td>\n",
       "    </tr>\n",
       "  </tbody>\n",
       "</table>\n",
       "</div>"
      ],
      "text/plain": [
       "                                    App   Category  Rating  Reviews  Size  \\\n",
       "4197             most expensive app (H)     FAMILY     4.3        6  1.5M   \n",
       "4362                         💎 I'm rich  LIFESTYLE     3.8      718   26M   \n",
       "4367           I'm Rich - Trump Edition  LIFESTYLE     3.6      275  7.3M   \n",
       "5351                          I am rich  LIFESTYLE     3.8     3547  1.8M   \n",
       "5354                     I am Rich Plus     FAMILY     4.0      856  8.7M   \n",
       "5356                  I Am Rich Premium    FINANCE     4.1     1867  4.7M   \n",
       "5357                I am extremely Rich  LIFESTYLE     2.9       41  2.9M   \n",
       "5358                         I am Rich!    FINANCE     3.8       93   22M   \n",
       "5359                 I am rich(premium)    FINANCE     3.5      472  965k   \n",
       "5362                      I Am Rich Pro     FAMILY     4.4      201  2.7M   \n",
       "5364     I am rich (Most expensive app)    FINANCE     4.1      129  2.7M   \n",
       "5366                          I Am Rich     FAMILY     3.6      217  4.9M   \n",
       "5369                          I am Rich    FINANCE     4.3      180  3.8M   \n",
       "5373                 I AM RICH PRO PLUS    FINANCE     4.0       36   41M   \n",
       "9917                        Eu Sou Rico    FINANCE     0.0        0  1.4M   \n",
       "9934  I'm Rich/Eu sou Rico/أنا غني/我很有錢  LIFESTYLE     0.0        0   40M   \n",
       "\n",
       "      Installs  Type    Price Content Rating         Genres  \\\n",
       "4197      100+  Paid  $399.99       Everyone  Entertainment   \n",
       "4362   10,000+  Paid  $399.99       Everyone      Lifestyle   \n",
       "4367   10,000+  Paid  $400.00       Everyone      Lifestyle   \n",
       "5351  100,000+  Paid  $399.99       Everyone      Lifestyle   \n",
       "5354   10,000+  Paid  $399.99       Everyone  Entertainment   \n",
       "5356   50,000+  Paid  $399.99       Everyone        Finance   \n",
       "5357    1,000+  Paid  $379.99       Everyone      Lifestyle   \n",
       "5358    1,000+  Paid  $399.99       Everyone        Finance   \n",
       "5359    5,000+  Paid  $399.99       Everyone        Finance   \n",
       "5362    5,000+  Paid  $399.99       Everyone  Entertainment   \n",
       "5364    1,000+  Paid  $399.99           Teen        Finance   \n",
       "5366   10,000+  Paid  $389.99       Everyone  Entertainment   \n",
       "5369    5,000+  Paid  $399.99       Everyone        Finance   \n",
       "5373    1,000+  Paid  $399.99       Everyone        Finance   \n",
       "9917        0+  Paid  $394.99       Everyone        Finance   \n",
       "9934        0+  Paid  $399.99       Everyone      Lifestyle   \n",
       "\n",
       "           Last Updated Current Ver   Android Ver  Installs_int  Price_float  \n",
       "4197      July 16, 2018         1.0    7.0 and up           100    399.98999  \n",
       "4362     March 11, 2018       1.0.0    4.4 and up         10000    399.98999  \n",
       "4367        May 3, 2018       1.0.1    4.1 and up         10000    400.00000  \n",
       "5351   January 12, 2018         2.0  4.0.3 and up        100000    399.98999  \n",
       "5354       May 19, 2018         3.0    4.4 and up         10000    399.98999  \n",
       "5356  November 12, 2017         1.6    4.0 and up         50000    399.98999  \n",
       "5357       July 1, 2018         1.0    4.0 and up          1000    379.98999  \n",
       "5358  December 11, 2017         1.0    4.1 and up          1000    399.98999  \n",
       "5359        May 1, 2017         3.4    4.4 and up          5000    399.98999  \n",
       "5362       May 30, 2017        1.54    1.6 and up          5000    399.98999  \n",
       "5364   December 6, 2017           2  4.0.3 and up          1000    399.98999  \n",
       "5366      June 22, 2018         1.5    4.2 and up         10000    389.98999  \n",
       "5369     March 22, 2018         1.0    4.2 and up          5000    399.98999  \n",
       "5373      June 25, 2018       1.0.2    4.1 and up          1000    399.98999  \n",
       "9917      July 11, 2018         1.0  4.0.3 and up             0    394.98999  \n",
       "9934   December 1, 2017       MONEY    4.1 and up             0    399.98999  "
      ]
     },
     "execution_count": 34,
     "metadata": {},
     "output_type": "execute_result"
    }
   ],
   "source": [
    "# посмотрим на эти аномальные данные\n",
    "# приложение называется I'm rich\n",
    "# РЕАЛЬНО ЕСТЬ ТАКОЕ ПРИЛОЖЕНИЕ (правда не в русском маркете)!!!!!!!!!!!!!!!! =)))))))\n",
    "# https://lpgenerator.ru/blog/2016/04/28/ya-bogat-ili-sekretnaya-mantra-za-1-000/\n",
    "# приложение, которое ничего не делает, но стоит кучу денег и люди его ставят!!!! чтоб я так жила...\n",
    "data_train.loc[data_train['Price_float'] > 300]"
   ]
  },
  {
   "cell_type": "code",
   "execution_count": 35,
   "metadata": {},
   "outputs": [
    {
     "data": {
      "image/png": "[encoded data removed]",
      "text/plain": [
       "<Figure size 432x288 with 1 Axes>"
      ]
     },
     "metadata": {
      "needs_background": "light"
     },
     "output_type": "display_data"
    }
   ],
   "source": [
    "# посмотрим на нормальные цены, по приложениям для нормальных людей, не за 400$\n",
    "# большинство цен все-таки в промежутке  до 20$\n",
    "plt.hist(data_train.loc[(data_train['Type'] != 'Free')&(data_train['Price_float'] < 100), 'Price_float'], bins = 30)\n",
    "plt.show()"
   ]
  },
  {
   "cell_type": "code",
   "execution_count": 36,
   "metadata": {},
   "outputs": [
    {
     "data": {
      "image/png": "[encoded data removed]",
      "text/plain": [
       "<Figure size 432x288 with 1 Axes>"
      ]
     },
     "metadata": {
      "needs_background": "light"
     },
     "output_type": "display_data"
    }
   ],
   "source": [
    "# большинство цен все-таки в промежутке  до 20$,смотрим на такие цены поближе\n",
    "# и все равно распределение цен на нормальное не похоже...\n",
    "plt.hist(data_train.loc[(data_train['Type'] != 'Free')&(data_train['Price_float'] < 20), 'Price_float'], bins = 30)\n",
    "plt.show()"
   ]
  },
  {
   "cell_type": "code",
   "execution_count": 37,
   "metadata": {},
   "outputs": [
    {
     "name": "stdout",
     "output_type": "stream",
     "text": [
      "мат ожидание:  1.0272822380065918\n",
      "среднее квадратичное отклонение:  15.9474458694458\n",
      "смещенная оценка дисперсии:  254.321044921875\n",
      "несмещенная оценка дисперсии:  254.34451293945312\n",
      "медиана:  0.0\n",
      "мода:  0    0.0\n",
      "dtype: float32\n"
     ]
    }
   ],
   "source": [
    "# посчитаем основные показатели для цены\n",
    "stat_ind(data_train['Price_float'])"
   ]
  },
  {
   "cell_type": "markdown",
   "metadata": {},
   "source": [
    "### Производные данные. Категории."
   ]
  },
  {
   "cell_type": "code",
   "execution_count": 38,
   "metadata": {},
   "outputs": [
    {
     "data": {
      "text/plain": [
       "Category\n",
       "ART_AND_DESIGN           65\n",
       "AUTO_AND_VEHICLES        85\n",
       "BEAUTY                   53\n",
       "BOOKS_AND_REFERENCE     231\n",
       "BUSINESS                460\n",
       "COMICS                   60\n",
       "COMMUNICATION           387\n",
       "DATING                  234\n",
       "EDUCATION               156\n",
       "ENTERTAINMENT           149\n",
       "EVENTS                   64\n",
       "FAMILY                 1972\n",
       "FINANCE                 366\n",
       "FOOD_AND_DRINK          127\n",
       "GAME                   1144\n",
       "HEALTH_AND_FITNESS      341\n",
       "HOUSE_AND_HOME           88\n",
       "LIBRARIES_AND_DEMO       85\n",
       "LIFESTYLE               383\n",
       "MAPS_AND_NAVIGATION     137\n",
       "MEDICAL                 463\n",
       "NEWS_AND_MAGAZINES      283\n",
       "PARENTING                60\n",
       "PERSONALIZATION         392\n",
       "PHOTOGRAPHY             335\n",
       "PRODUCTIVITY            424\n",
       "SHOPPING                260\n",
       "SOCIAL                  295\n",
       "SPORTS                  384\n",
       "TOOLS                   843\n",
       "TRAVEL_AND_LOCAL        258\n",
       "VIDEO_PLAYERS           175\n",
       "WEATHER                  82\n",
       "Name: App, dtype: int64"
      ]
     },
     "execution_count": 38,
     "metadata": {},
     "output_type": "execute_result"
    }
   ],
   "source": [
    "# сколько всего приложений в каждой категории???\n",
    "cat_cnt = data_train.groupby(['Category'])['App'].count()\n",
    "cat_cnt"
   ]
  },
  {
   "cell_type": "code",
   "execution_count": 39,
   "metadata": {},
   "outputs": [
    {
     "data": {
      "image/png": "[encoded data removed]",
      "text/plain": [
       "<Figure size 1080x1080 with 1 Axes>"
      ]
     },
     "metadata": {
      "needs_background": "light"
     },
     "output_type": "display_data"
    }
   ],
   "source": [
    "# сколько всего приложений в каждой категории - посмотрим на графике\n",
    "rcParams[\"figure.figsize\"] = 15, 15\n",
    "cat_cnt.plot(kind=\"barh\")\n",
    "plt.show()"
   ]
  },
  {
   "cell_type": "code",
   "execution_count": 40,
   "metadata": {},
   "outputs": [
    {
     "data": {
      "image/png": "[encoded data removed]",
      "text/plain": [
       "<Figure size 432x288 with 1 Axes>"
      ]
     },
     "metadata": {
      "needs_background": "light"
     },
     "output_type": "display_data"
    }
   ],
   "source": [
    "# сколько всего приложений в каждой категории - посмотрим на графике\n",
    "rcParams[\"figure.figsize\"] = 6, 4\n",
    "plt.hist(cat_cnt, bins = 32)\n",
    "plt.show()"
   ]
  },
  {
   "cell_type": "code",
   "execution_count": 41,
   "metadata": {},
   "outputs": [
    {
     "name": "stdout",
     "output_type": "stream",
     "text": [
      "мат ожидание:  328.5151515151515\n",
      "среднее квадратичное отклонение:  368.50328901226356\n",
      "смещенная оценка дисперсии:  135794.67401285583\n",
      "несмещенная оценка дисперсии:  140038.25757575757\n",
      "медиана:  258.0\n",
      "мода:  0    60\n",
      "1    85\n",
      "dtype: int64\n"
     ]
    }
   ],
   "source": [
    "# посчитаем основные показатели количества приложений по категориям\n",
    "stat_ind(cat_cnt)"
   ]
  },
  {
   "cell_type": "code",
   "execution_count": 42,
   "metadata": {},
   "outputs": [
    {
     "data": {
      "text/plain": [
       "Category\n",
       "ART_AND_DESIGN         4.156923\n",
       "AUTO_AND_VEHICLES      3.598824\n",
       "BEAUTY                 3.390566\n",
       "BOOKS_AND_REFERENCE    3.348918\n",
       "BUSINESS               2.714783\n",
       "COMICS                 4.016667\n",
       "COMMUNICATION          3.524548\n",
       "DATING                 3.308974\n",
       "EDUCATION              4.360897\n",
       "ENTERTAINMENT          4.126174\n",
       "EVENTS                 3.118750\n",
       "FAMILY                 3.713945\n",
       "FINANCE                3.646448\n",
       "FOOD_AND_DRINK         3.576378\n",
       "GAME                   4.110227\n",
       "HEALTH_AND_FITNESS     3.725220\n",
       "HOUSE_AND_HOME         3.625000\n",
       "LIBRARIES_AND_DEMO     3.195294\n",
       "LIFESTYLE              3.362141\n",
       "MAPS_AND_NAVIGATION    3.667153\n",
       "MEDICAL                3.166739\n",
       "NEWS_AND_MAGAZINES     3.402120\n",
       "PARENTING              3.583333\n",
       "PERSONALIZATION        3.473214\n",
       "PHOTOGRAPHY            3.966866\n",
       "PRODUCTIVITY           3.486321\n",
       "SHOPPING               3.899231\n",
       "SOCIAL                 3.736271\n",
       "SPORTS                 3.508594\n",
       "TOOLS                  3.524081\n",
       "TRAVEL_AND_LOCAL       3.599612\n",
       "VIDEO_PLAYERS          3.715429\n",
       "WEATHER                3.881707\n",
       "Name: Rating, dtype: float64"
      ]
     },
     "execution_count": 42,
     "metadata": {},
     "output_type": "execute_result"
    }
   ],
   "source": [
    "# посчитаем средний рейтинг по категориям\n",
    "cat_mn = data_train.groupby(['Category'])['Rating'].mean()\n",
    "cat_mn"
   ]
  },
  {
   "cell_type": "code",
   "execution_count": 43,
   "metadata": {},
   "outputs": [
    {
     "data": {
      "image/png": "[encoded data removed]",
      "text/plain": [
       "<Figure size 1080x1080 with 1 Axes>"
      ]
     },
     "metadata": {
      "needs_background": "light"
     },
     "output_type": "display_data"
    }
   ],
   "source": [
    "# средний рейтинг по категориям - посомтрим на графике\n",
    "rcParams[\"figure.figsize\"] = 15, 15\n",
    "cat_mn.plot(kind=\"barh\")\n",
    "plt.show()"
   ]
  },
  {
   "cell_type": "code",
   "execution_count": 44,
   "metadata": {},
   "outputs": [
    {
     "data": {
      "image/png": "[encoded data removed]",
      "text/plain": [
       "<Figure size 432x288 with 1 Axes>"
      ]
     },
     "metadata": {
      "needs_background": "light"
     },
     "output_type": "display_data"
    }
   ],
   "source": [
    "# средний рейтинг по категориям - посмотрим на графике\n",
    "# слегка похож на нормальное распределение\n",
    "rcParams[\"figure.figsize\"] = 6, 4\n",
    "plt.hist(cat_mn, bins = 32)\n",
    "plt.show()"
   ]
  },
  {
   "cell_type": "code",
   "execution_count": 45,
   "metadata": {},
   "outputs": [
    {
     "name": "stdout",
     "output_type": "stream",
     "text": [
      "мат ожидание:  328.5151515151515\n",
      "среднее квадратичное отклонение:  368.50328901226356\n",
      "смещенная оценка дисперсии:  135794.67401285583\n",
      "несмещенная оценка дисперсии:  140038.25757575757\n",
      "медиана:  258.0\n",
      "мода:  0    60\n",
      "1    85\n",
      "dtype: int64\n"
     ]
    }
   ],
   "source": [
    "# посчитаем основные показатели для среднего рейтинга по категориям\n",
    "# моды вообще нет, получается, выводит все значения\n",
    "stat_ind(cat_cnt)"
   ]
  },
  {
   "cell_type": "code",
   "execution_count": 46,
   "metadata": {},
   "outputs": [
    {
     "data": {
      "text/plain": [
       "Category\n",
       "ART_AND_DESIGN         0.091846\n",
       "AUTO_AND_VEHICLES      0.158471\n",
       "BEAUTY                 0.000000\n",
       "BOOKS_AND_REFERENCE    0.518485\n",
       "BUSINESS               0.402761\n",
       "COMICS                 0.000000\n",
       "COMMUNICATION          0.214832\n",
       "DATING                 0.134316\n",
       "EDUCATION              0.115128\n",
       "ENTERTAINMENT          0.053557\n",
       "EVENTS                 1.718594\n",
       "FAMILY                 1.234675\n",
       "FINANCE                7.925765\n",
       "FOOD_AND_DRINK         0.066772\n",
       "GAME                   0.251136\n",
       "HEALTH_AND_FITNESS     0.197478\n",
       "HOUSE_AND_HOME         0.000000\n",
       "LIBRARIES_AND_DEMO     0.011647\n",
       "LIFESTYLE              6.164151\n",
       "MAPS_AND_NAVIGATION    0.196715\n",
       "MEDICAL                3.110065\n",
       "NEWS_AND_MAGAZINES     0.014064\n",
       "PARENTING              0.159667\n",
       "PERSONALIZATION        0.392755\n",
       "PHOTOGRAPHY            0.400627\n",
       "PRODUCTIVITY           0.591816\n",
       "SHOPPING               0.021077\n",
       "SOCIAL                 0.054136\n",
       "SPORTS                 0.260417\n",
       "TOOLS                  0.317023\n",
       "TRAVEL_AND_LOCAL       0.193605\n",
       "VIDEO_PLAYERS          0.059771\n",
       "WEATHER                0.395366\n",
       "Name: Price_float, dtype: float32"
      ]
     },
     "execution_count": 46,
     "metadata": {},
     "output_type": "execute_result"
    }
   ],
   "source": [
    "# посчитаем среднюю цену по категориям\n",
    "cat_pr_mn = data_train.groupby(['Category'])['Price_float'].mean()\n",
    "cat_pr_mn"
   ]
  },
  {
   "cell_type": "code",
   "execution_count": 47,
   "metadata": {},
   "outputs": [
    {
     "data": {
      "image/png": "[encoded data removed]",
      "text/plain": [
       "<Figure size 1080x1080 with 1 Axes>"
      ]
     },
     "metadata": {
      "needs_background": "light"
     },
     "output_type": "display_data"
    }
   ],
   "source": [
    "# средняя цена по категориям - посмотрим на графике\n",
    "rcParams[\"figure.figsize\"] = 15, 15\n",
    "cat_pr_mn.plot(kind=\"barh\")\n",
    "plt.show()"
   ]
  },
  {
   "cell_type": "code",
   "execution_count": 48,
   "metadata": {},
   "outputs": [
    {
     "data": {
      "image/png": "[encoded data removed]",
      "text/plain": [
       "<Figure size 432x288 with 1 Axes>"
      ]
     },
     "metadata": {
      "needs_background": "light"
     },
     "output_type": "display_data"
    }
   ],
   "source": [
    "# средняя цена по категориям - посмотрим на графике\n",
    "rcParams[\"figure.figsize\"] = 6, 4\n",
    "plt.hist(cat_pr_mn, bins = 32)\n",
    "plt.show()"
   ]
  },
  {
   "cell_type": "code",
   "execution_count": 49,
   "metadata": {},
   "outputs": [
    {
     "name": "stdout",
     "output_type": "stream",
     "text": [
      "мат ожидание:  0.7705065608024597\n",
      "среднее квадратичное отклонение:  1.7155578136444092\n",
      "смещенная оценка дисперсии:  2.943138599395752\n",
      "несмещенная оценка дисперсии:  3.035111665725708\n",
      "медиана:  0.1967153251171112\n",
      "мода:  0    0.0\n",
      "dtype: float32\n"
     ]
    }
   ],
   "source": [
    "# посчитаем основные показатели для средней цены по категориям\n",
    "stat_ind(cat_pr_mn)"
   ]
  },
  {
   "cell_type": "code",
   "execution_count": 50,
   "metadata": {},
   "outputs": [
    {
     "data": {
      "text/plain": [
       "Category\n",
       "ART_AND_DESIGN         2.637600e+04\n",
       "AUTO_AND_VEHICLES      1.369019e+04\n",
       "BEAUTY                 7.476226e+03\n",
       "BOOKS_AND_REFERENCE    9.506090e+04\n",
       "BUSINESS               3.033598e+04\n",
       "COMICS                 5.638793e+04\n",
       "COMMUNICATION          2.107138e+06\n",
       "DATING                 3.115931e+04\n",
       "EDUCATION              2.538191e+05\n",
       "ENTERTAINMENT          3.971688e+05\n",
       "EVENTS                 2.515906e+03\n",
       "FAMILY                 2.080255e+05\n",
       "FINANCE                4.795281e+04\n",
       "FOOD_AND_DRINK         6.994748e+04\n",
       "GAME                   1.385859e+06\n",
       "HEALTH_AND_FITNESS     1.111253e+05\n",
       "HOUSE_AND_HOME         4.518619e+04\n",
       "LIBRARIES_AND_DEMO     1.220139e+04\n",
       "LIFESTYLE              3.363656e+04\n",
       "MAPS_AND_NAVIGATION    2.237902e+05\n",
       "MEDICAL                3.425432e+03\n",
       "NEWS_AND_MAGAZINES     1.922292e+05\n",
       "PARENTING              1.597218e+04\n",
       "PERSONALIZATION        2.279238e+05\n",
       "PHOTOGRAPHY            6.373631e+05\n",
       "PRODUCTIVITY           2.691438e+05\n",
       "SHOPPING               4.424662e+05\n",
       "SOCIAL                 2.105903e+06\n",
       "SPORTS                 1.844536e+05\n",
       "TOOLS                  3.240629e+05\n",
       "TRAVEL_AND_LOCAL       2.427051e+05\n",
       "VIDEO_PLAYERS          6.307439e+05\n",
       "WEATHER                1.781065e+05\n",
       "Name: Reviews, dtype: float64"
      ]
     },
     "execution_count": 50,
     "metadata": {},
     "output_type": "execute_result"
    }
   ],
   "source": [
    "# посчитаем среднее количество просмотров по категориям\n",
    "cat_rv_mn = data_train.groupby(['Category'])['Reviews'].mean()\n",
    "cat_rv_mn"
   ]
  },
  {
   "cell_type": "code",
   "execution_count": 51,
   "metadata": {},
   "outputs": [
    {
     "data": {
      "image/png": "[encoded data removed]",
      "text/plain": [
       "<Figure size 1080x1080 with 1 Axes>"
      ]
     },
     "metadata": {
      "needs_background": "light"
     },
     "output_type": "display_data"
    }
   ],
   "source": [
    "# среднее количество просмотров по категориям - посмотрим на графике\n",
    "rcParams[\"figure.figsize\"] = 15, 15\n",
    "cat_rv_mn.plot(kind=\"barh\")\n",
    "plt.show()"
   ]
  },
  {
   "cell_type": "code",
   "execution_count": 52,
   "metadata": {},
   "outputs": [
    {
     "data": {
      "image/png": "[encoded data removed]",
      "text/plain": [
       "<Figure size 432x288 with 1 Axes>"
      ]
     },
     "metadata": {
      "needs_background": "light"
     },
     "output_type": "display_data"
    }
   ],
   "source": [
    "# среднее количество просмотров по категориям - посмотрим на графике\n",
    "rcParams[\"figure.figsize\"] = 6, 4\n",
    "plt.hist(cat_rv_mn, bins = 32)\n",
    "plt.show()"
   ]
  },
  {
   "cell_type": "code",
   "execution_count": 53,
   "metadata": {},
   "outputs": [
    {
     "name": "stdout",
     "output_type": "stream",
     "text": [
      "мат ожидание:  321616.70324260765\n",
      "среднее квадратичное отклонение:  525892.8936523382\n",
      "смещенная оценка дисперсии:  276563335594.02954\n",
      "несмещенная оценка дисперсии:  285205939831.34296\n",
      "медиана:  178106.5243902439\n",
      "мода:  0     2.515906e+03\n",
      "1     3.425432e+03\n",
      "2     7.476226e+03\n",
      "3     1.220139e+04\n",
      "4     1.369019e+04\n",
      "5     1.597218e+04\n",
      "6     2.637600e+04\n",
      "7     3.033598e+04\n",
      "8     3.115931e+04\n",
      "9     3.363656e+04\n",
      "10    4.518619e+04\n",
      "11    4.795281e+04\n",
      "12    5.638793e+04\n",
      "13    6.994748e+04\n",
      "14    9.506090e+04\n",
      "15    1.111253e+05\n",
      "16    1.781065e+05\n",
      "17    1.844536e+05\n",
      "18    1.922292e+05\n",
      "19    2.080255e+05\n",
      "20    2.237902e+05\n",
      "21    2.279238e+05\n",
      "22    2.427051e+05\n",
      "23    2.538191e+05\n",
      "24    2.691438e+05\n",
      "25    3.240629e+05\n",
      "26    3.971688e+05\n",
      "27    4.424662e+05\n",
      "28    6.307439e+05\n",
      "29    6.373631e+05\n",
      "30    1.385859e+06\n",
      "31    2.105903e+06\n",
      "32    2.107138e+06\n",
      "dtype: float64\n"
     ]
    }
   ],
   "source": [
    "# посчитаем основные показатели для среднего количества просмотров по категориям\n",
    "# опять нет моды\n",
    "stat_ind(cat_rv_mn)"
   ]
  },
  {
   "cell_type": "code",
   "execution_count": 54,
   "metadata": {},
   "outputs": [
    {
     "data": {
      "text/plain": [
       "Category\n",
       "ART_AND_DESIGN         1.912894e+06\n",
       "AUTO_AND_VEHICLES      6.250613e+05\n",
       "BEAUTY                 5.131519e+05\n",
       "BOOKS_AND_REFERENCE    8.318050e+06\n",
       "BUSINESS               2.178076e+06\n",
       "COMICS                 9.347692e+05\n",
       "COMMUNICATION          8.435989e+07\n",
       "DATING                 1.129533e+06\n",
       "EDUCATION              5.586231e+06\n",
       "ENTERTAINMENT          1.925611e+07\n",
       "EVENTS                 2.495806e+05\n",
       "FAMILY                 5.201959e+06\n",
       "FINANCE                2.395215e+06\n",
       "FOOD_AND_DRINK         2.156683e+06\n",
       "GAME                   3.066960e+07\n",
       "HEALTH_AND_FITNESS     4.642441e+06\n",
       "HOUSE_AND_HOME         1.917187e+06\n",
       "LIBRARIES_AND_DEMO     7.411284e+05\n",
       "LIFESTYLE              1.403772e+06\n",
       "MAPS_AND_NAVIGATION    5.286729e+06\n",
       "MEDICAL                1.150269e+05\n",
       "NEWS_AND_MAGAZINES     2.648876e+07\n",
       "PARENTING              5.253518e+05\n",
       "PERSONALIZATION        5.932385e+06\n",
       "PHOTOGRAPHY            3.011417e+07\n",
       "PRODUCTIVITY           3.343418e+07\n",
       "SHOPPING               1.249173e+07\n",
       "SOCIAL                 4.769447e+07\n",
       "SPORTS                 4.560350e+06\n",
       "TOOLS                  1.358573e+07\n",
       "TRAVEL_AND_LOCAL       2.662359e+07\n",
       "VIDEO_PLAYERS          3.555430e+07\n",
       "WEATHER                5.196348e+06\n",
       "Name: Installs_int, dtype: float64"
      ]
     },
     "execution_count": 54,
     "metadata": {},
     "output_type": "execute_result"
    }
   ],
   "source": [
    "# посчитаем среднее количество скачиваний по категориям\n",
    "cat_i_mn = data_train.groupby(['Category'])['Installs_int'].mean()\n",
    "cat_i_mn"
   ]
  },
  {
   "cell_type": "code",
   "execution_count": 55,
   "metadata": {},
   "outputs": [
    {
     "data": {
      "image/png": "[encoded data removed]",
      "text/plain": [
       "<Figure size 1080x1080 with 1 Axes>"
      ]
     },
     "metadata": {
      "needs_background": "light"
     },
     "output_type": "display_data"
    }
   ],
   "source": [
    "# среднее количество скачиваний по категориям - посмотрим на графике\n",
    "rcParams[\"figure.figsize\"] = 15, 15\n",
    "cat_i_mn.plot(kind=\"barh\")\n",
    "plt.show()"
   ]
  },
  {
   "cell_type": "code",
   "execution_count": 56,
   "metadata": {},
   "outputs": [
    {
     "data": {
      "image/png": "[encoded data removed]",
      "text/plain": [
       "<Figure size 432x288 with 1 Axes>"
      ]
     },
     "metadata": {
      "needs_background": "light"
     },
     "output_type": "display_data"
    }
   ],
   "source": [
    "# среднее количество скачиваний по категориям - посмотрим на графике\n",
    "rcParams[\"figure.figsize\"] = 6, 4\n",
    "plt.hist(cat_i_mn, bins = 32)\n",
    "plt.show()"
   ]
  },
  {
   "cell_type": "code",
   "execution_count": 57,
   "metadata": {},
   "outputs": [
    {
     "name": "stdout",
     "output_type": "stream",
     "text": [
      "мат ожидание:  12781649.84056345\n",
      "среднее квадратичное отклонение:  17955786.950270787\n",
      "смещенная оценка дисперсии:  322410285003514.7\n",
      "несмещенная оценка дисперсии:  332485606409874.5\n",
      "медиана:  5196347.804878049\n",
      "мода:  0     1.150269e+05\n",
      "1     2.495806e+05\n",
      "2     5.131519e+05\n",
      "3     5.253518e+05\n",
      "4     6.250613e+05\n",
      "5     7.411284e+05\n",
      "6     9.347692e+05\n",
      "7     1.129533e+06\n",
      "8     1.403772e+06\n",
      "9     1.912894e+06\n",
      "10    1.917187e+06\n",
      "11    2.156683e+06\n",
      "12    2.178076e+06\n",
      "13    2.395215e+06\n",
      "14    4.560350e+06\n",
      "15    4.642441e+06\n",
      "16    5.196348e+06\n",
      "17    5.201959e+06\n",
      "18    5.286729e+06\n",
      "19    5.586231e+06\n",
      "20    5.932385e+06\n",
      "21    8.318050e+06\n",
      "22    1.249173e+07\n",
      "23    1.358573e+07\n",
      "24    1.925611e+07\n",
      "25    2.648876e+07\n",
      "26    2.662359e+07\n",
      "27    3.011417e+07\n",
      "28    3.066960e+07\n",
      "29    3.343418e+07\n",
      "30    3.555430e+07\n",
      "31    4.769447e+07\n",
      "32    8.435989e+07\n",
      "dtype: float64\n"
     ]
    }
   ],
   "source": [
    "# посчитаем основные показатели для среднего количества скачиваний по категориям\n",
    "# опять нет моды\n",
    "stat_ind(cat_i_mn)"
   ]
  },
  {
   "cell_type": "code",
   "execution_count": 58,
   "metadata": {},
   "outputs": [],
   "source": [
    "# было бы интересно посмотреть на корреляцию средних параметров по категориям с остальными параметрами\n",
    "# для этого добавим их в таблицу и потом посмотрим матрицу корреляции\n",
    "# все возможные категории\n",
    "all_cats = data_train['Category'].unique()\n",
    "\n",
    "j = 0\n",
    "# посчитаем среднее для каждой категории\n",
    "for i in all_cats:\n",
    "    data_train.loc[data_train['Category'] == i,'Category_inst'] = data_train.loc[data_train['Category'] == i,'Installs_int'].mean()\n",
    "    data_train.loc[data_train['Category'] == i,'Category_rew'] = data_train.loc[data_train['Category'] == i,'Reviews'].mean()\n",
    "    data_train.loc[data_train['Category'] == i,'Category_prc'] = data_train.loc[data_train['Category'] == i,'Price_float'].mean()\n",
    "    data_train.loc[data_train['Category'] == i,'Category_rat'] = data_train.loc[data_train['Category'] == i,'Rating'].mean()  "
   ]
  },
  {
   "cell_type": "code",
   "execution_count": 59,
   "metadata": {},
   "outputs": [
    {
     "data": {
      "text/html": [
       "<div>\n",
       "<style scoped>\n",
       "    .dataframe tbody tr th:only-of-type {\n",
       "        vertical-align: middle;\n",
       "    }\n",
       "\n",
       "    .dataframe tbody tr th {\n",
       "        vertical-align: top;\n",
       "    }\n",
       "\n",
       "    .dataframe thead th {\n",
       "        text-align: right;\n",
       "    }\n",
       "</style>\n",
       "<table border=\"1\" class=\"dataframe\">\n",
       "  <thead>\n",
       "    <tr style=\"text-align: right;\">\n",
       "      <th></th>\n",
       "      <th>Rating</th>\n",
       "      <th>Reviews</th>\n",
       "      <th>Installs_int</th>\n",
       "      <th>Price_float</th>\n",
       "      <th>Category_inst</th>\n",
       "      <th>Category_rew</th>\n",
       "      <th>Category_prc</th>\n",
       "      <th>Category_rat</th>\n",
       "    </tr>\n",
       "  </thead>\n",
       "  <tbody>\n",
       "    <tr>\n",
       "      <th>Rating</th>\n",
       "      <td>1.000000</td>\n",
       "      <td>0.078613</td>\n",
       "      <td>0.084643</td>\n",
       "      <td>-0.016338</td>\n",
       "      <td>0.056058</td>\n",
       "      <td>0.093195</td>\n",
       "      <td>-0.038072</td>\n",
       "      <td>0.213899</td>\n",
       "    </tr>\n",
       "    <tr>\n",
       "      <th>Reviews</th>\n",
       "      <td>0.078613</td>\n",
       "      <td>1.000000</td>\n",
       "      <td>0.643123</td>\n",
       "      <td>-0.009666</td>\n",
       "      <td>0.171733</td>\n",
       "      <td>0.198426</td>\n",
       "      <td>-0.057417</td>\n",
       "      <td>0.086453</td>\n",
       "    </tr>\n",
       "    <tr>\n",
       "      <th>Installs_int</th>\n",
       "      <td>0.084643</td>\n",
       "      <td>0.643123</td>\n",
       "      <td>1.000000</td>\n",
       "      <td>-0.011688</td>\n",
       "      <td>0.216023</td>\n",
       "      <td>0.186963</td>\n",
       "      <td>-0.067473</td>\n",
       "      <td>0.056615</td>\n",
       "    </tr>\n",
       "    <tr>\n",
       "      <th>Price_float</th>\n",
       "      <td>-0.016338</td>\n",
       "      <td>-0.009666</td>\n",
       "      <td>-0.011688</td>\n",
       "      <td>1.000000</td>\n",
       "      <td>-0.034903</td>\n",
       "      <td>-0.032335</td>\n",
       "      <td>0.111746</td>\n",
       "      <td>-0.019890</td>\n",
       "    </tr>\n",
       "    <tr>\n",
       "      <th>Category_inst</th>\n",
       "      <td>0.056058</td>\n",
       "      <td>0.171733</td>\n",
       "      <td>0.216023</td>\n",
       "      <td>-0.034903</td>\n",
       "      <td>1.000000</td>\n",
       "      <td>0.865477</td>\n",
       "      <td>-0.312341</td>\n",
       "      <td>0.262079</td>\n",
       "    </tr>\n",
       "    <tr>\n",
       "      <th>Category_rew</th>\n",
       "      <td>0.093195</td>\n",
       "      <td>0.198426</td>\n",
       "      <td>0.186963</td>\n",
       "      <td>-0.032335</td>\n",
       "      <td>0.865477</td>\n",
       "      <td>1.000000</td>\n",
       "      <td>-0.289362</td>\n",
       "      <td>0.435697</td>\n",
       "    </tr>\n",
       "    <tr>\n",
       "      <th>Category_prc</th>\n",
       "      <td>-0.038072</td>\n",
       "      <td>-0.057417</td>\n",
       "      <td>-0.067473</td>\n",
       "      <td>0.111746</td>\n",
       "      <td>-0.312341</td>\n",
       "      <td>-0.289362</td>\n",
       "      <td>1.000000</td>\n",
       "      <td>-0.177992</td>\n",
       "    </tr>\n",
       "    <tr>\n",
       "      <th>Category_rat</th>\n",
       "      <td>0.213899</td>\n",
       "      <td>0.086453</td>\n",
       "      <td>0.056615</td>\n",
       "      <td>-0.019890</td>\n",
       "      <td>0.262079</td>\n",
       "      <td>0.435697</td>\n",
       "      <td>-0.177992</td>\n",
       "      <td>1.000000</td>\n",
       "    </tr>\n",
       "  </tbody>\n",
       "</table>\n",
       "</div>"
      ],
      "text/plain": [
       "                 Rating   Reviews  Installs_int  Price_float  Category_inst  \\\n",
       "Rating         1.000000  0.078613      0.084643    -0.016338       0.056058   \n",
       "Reviews        0.078613  1.000000      0.643123    -0.009666       0.171733   \n",
       "Installs_int   0.084643  0.643123      1.000000    -0.011688       0.216023   \n",
       "Price_float   -0.016338 -0.009666     -0.011688     1.000000      -0.034903   \n",
       "Category_inst  0.056058  0.171733      0.216023    -0.034903       1.000000   \n",
       "Category_rew   0.093195  0.198426      0.186963    -0.032335       0.865477   \n",
       "Category_prc  -0.038072 -0.057417     -0.067473     0.111746      -0.312341   \n",
       "Category_rat   0.213899  0.086453      0.056615    -0.019890       0.262079   \n",
       "\n",
       "               Category_rew  Category_prc  Category_rat  \n",
       "Rating             0.093195     -0.038072      0.213899  \n",
       "Reviews            0.198426     -0.057417      0.086453  \n",
       "Installs_int       0.186963     -0.067473      0.056615  \n",
       "Price_float       -0.032335      0.111746     -0.019890  \n",
       "Category_inst      0.865477     -0.312341      0.262079  \n",
       "Category_rew       1.000000     -0.289362      0.435697  \n",
       "Category_prc      -0.289362      1.000000     -0.177992  \n",
       "Category_rat       0.435697     -0.177992      1.000000  "
      ]
     },
     "execution_count": 59,
     "metadata": {},
     "output_type": "execute_result"
    }
   ],
   "source": [
    "# посмотрим матрицу корреляции\n",
    "# старое: коррелируют количество инвталяций с количеством отзывов \n",
    "# новое: теперь среднее количество инсталяций по категориям коррелирует с средним количеством отзывов по категориям...\n",
    "# новое: слегка коррелирует средний рейтинг по категориям со средним количеством отзывов по категориям\n",
    "data_train.corr()"
   ]
  },
  {
   "cell_type": "markdown",
   "metadata": {},
   "source": [
    "## Производные данные. Жанр."
   ]
  },
  {
   "cell_type": "code",
   "execution_count": 60,
   "metadata": {},
   "outputs": [],
   "source": [
    "# я посмотрела, жанр двухуровневое дерево. \n",
    "# разбили дерево на 2 ветки\n",
    "# при этом приведем жанр к виду категорий, чтобы сравнить. \n",
    "# для этого жанр приводим к верхнему регистру и заменяем \" & \" на \"_AND_\"\n",
    "data_train['Genres_0'] = data_train['Genres'].apply(lambda x: x.split(';')[0].upper().replace(\" & \", \"_AND_\"))\n",
    "data_train['Genres_1'] = data_train['Genres'].apply(lambda x: x.split(';')[1].upper().replace(\" & \", \"_AND_\") if len(x.split(';'))>1 else '-')"
   ]
  },
  {
   "cell_type": "code",
   "execution_count": 61,
   "metadata": {},
   "outputs": [
    {
     "data": {
      "text/plain": [
       "3291"
      ]
     },
     "execution_count": 61,
     "metadata": {},
     "output_type": "execute_result"
    }
   ],
   "source": [
    "# примерно у трети даннх жанр и категория не равны \n",
    "len(data_train.loc[data_train['Genres_0'] != data_train['Category'],['Genres_0','Genres_1','Category']])"
   ]
  },
  {
   "cell_type": "code",
   "execution_count": 62,
   "metadata": {},
   "outputs": [
    {
     "data": {
      "text/html": [
       "<div>\n",
       "<style scoped>\n",
       "    .dataframe tbody tr th:only-of-type {\n",
       "        vertical-align: middle;\n",
       "    }\n",
       "\n",
       "    .dataframe tbody tr th {\n",
       "        vertical-align: top;\n",
       "    }\n",
       "\n",
       "    .dataframe thead th {\n",
       "        text-align: right;\n",
       "    }\n",
       "</style>\n",
       "<table border=\"1\" class=\"dataframe\">\n",
       "  <thead>\n",
       "    <tr style=\"text-align: right;\">\n",
       "      <th></th>\n",
       "      <th>Genres_0</th>\n",
       "      <th>Genres_1</th>\n",
       "      <th>Category</th>\n",
       "    </tr>\n",
       "  </thead>\n",
       "  <tbody>\n",
       "    <tr>\n",
       "      <th>1653</th>\n",
       "      <td>ADVENTURE</td>\n",
       "      <td>ACTION_AND_ADVENTURE</td>\n",
       "      <td>GAME</td>\n",
       "    </tr>\n",
       "    <tr>\n",
       "      <th>1654</th>\n",
       "      <td>ARCADE</td>\n",
       "      <td>-</td>\n",
       "      <td>GAME</td>\n",
       "    </tr>\n",
       "    <tr>\n",
       "      <th>1655</th>\n",
       "      <td>CASUAL</td>\n",
       "      <td>-</td>\n",
       "      <td>GAME</td>\n",
       "    </tr>\n",
       "    <tr>\n",
       "      <th>1656</th>\n",
       "      <td>CARD</td>\n",
       "      <td>-</td>\n",
       "      <td>GAME</td>\n",
       "    </tr>\n",
       "    <tr>\n",
       "      <th>1657</th>\n",
       "      <td>CASUAL</td>\n",
       "      <td>-</td>\n",
       "      <td>GAME</td>\n",
       "    </tr>\n",
       "    <tr>\n",
       "      <th>1658</th>\n",
       "      <td>CASUAL</td>\n",
       "      <td>PRETEND PLAY</td>\n",
       "      <td>GAME</td>\n",
       "    </tr>\n",
       "    <tr>\n",
       "      <th>1659</th>\n",
       "      <td>ACTION</td>\n",
       "      <td>-</td>\n",
       "      <td>GAME</td>\n",
       "    </tr>\n",
       "    <tr>\n",
       "      <th>1660</th>\n",
       "      <td>STRATEGY</td>\n",
       "      <td>-</td>\n",
       "      <td>GAME</td>\n",
       "    </tr>\n",
       "    <tr>\n",
       "      <th>1661</th>\n",
       "      <td>ACTION</td>\n",
       "      <td>-</td>\n",
       "      <td>GAME</td>\n",
       "    </tr>\n",
       "    <tr>\n",
       "      <th>1662</th>\n",
       "      <td>CASUAL</td>\n",
       "      <td>-</td>\n",
       "      <td>GAME</td>\n",
       "    </tr>\n",
       "  </tbody>\n",
       "</table>\n",
       "</div>"
      ],
      "text/plain": [
       "       Genres_0              Genres_1 Category\n",
       "1653  ADVENTURE  ACTION_AND_ADVENTURE     GAME\n",
       "1654     ARCADE                     -     GAME\n",
       "1655     CASUAL                     -     GAME\n",
       "1656       CARD                     -     GAME\n",
       "1657     CASUAL                     -     GAME\n",
       "1658     CASUAL          PRETEND PLAY     GAME\n",
       "1659     ACTION                     -     GAME\n",
       "1660   STRATEGY                     -     GAME\n",
       "1661     ACTION                     -     GAME\n",
       "1662     CASUAL                     -     GAME"
      ]
     },
     "execution_count": 62,
     "metadata": {},
     "output_type": "execute_result"
    }
   ],
   "source": [
    "# посмотрим немного на эти данные\n",
    "data_train.loc[data_train['Genres_0'] != data_train['Category'],['Genres_0','Genres_1','Category']].head(10)"
   ]
  },
  {
   "cell_type": "code",
   "execution_count": 63,
   "metadata": {},
   "outputs": [],
   "source": [
    "# посмотрим на корреляцию данных по жанрам со всеми остальными данными\n",
    "# добавим их в таблицу и посомтрим на матрицу\n",
    "all_genres = data_train['Genres_0'].unique()\n",
    "for i in all_genres:\n",
    "    data_train.loc[data_train['Genres_0'] == i,'Genres_0_inst'] = data_train.loc[data_train['Genres_0'] == i,'Installs_int'].mean()\n",
    "    data_train.loc[data_train['Genres_0'] == i,'Genres_0_rew'] = data_train.loc[data_train['Genres_0'] == i,'Reviews'].mean()\n",
    "    data_train.loc[data_train['Genres_0'] == i,'Genres_0_prc'] = data_train.loc[data_train['Genres_0'] == i,'Price_float'].mean()\n",
    "    data_train.loc[data_train['Genres_0'] == i,'Genres_0_rat'] = data_train.loc[data_train['Genres_0'] == i,'Rating'].mean()"
   ]
  },
  {
   "cell_type": "code",
   "execution_count": 64,
   "metadata": {},
   "outputs": [
    {
     "data": {
      "text/html": [
       "<div>\n",
       "<style scoped>\n",
       "    .dataframe tbody tr th:only-of-type {\n",
       "        vertical-align: middle;\n",
       "    }\n",
       "\n",
       "    .dataframe tbody tr th {\n",
       "        vertical-align: top;\n",
       "    }\n",
       "\n",
       "    .dataframe thead th {\n",
       "        text-align: right;\n",
       "    }\n",
       "</style>\n",
       "<table border=\"1\" class=\"dataframe\">\n",
       "  <thead>\n",
       "    <tr style=\"text-align: right;\">\n",
       "      <th></th>\n",
       "      <th>Rating</th>\n",
       "      <th>Reviews</th>\n",
       "      <th>Installs_int</th>\n",
       "      <th>Price_float</th>\n",
       "      <th>Category_inst</th>\n",
       "      <th>Category_rew</th>\n",
       "      <th>Category_prc</th>\n",
       "      <th>Category_rat</th>\n",
       "      <th>Genres_0_inst</th>\n",
       "      <th>Genres_0_rew</th>\n",
       "      <th>Genres_0_prc</th>\n",
       "      <th>Genres_0_rat</th>\n",
       "    </tr>\n",
       "  </thead>\n",
       "  <tbody>\n",
       "    <tr>\n",
       "      <th>Rating</th>\n",
       "      <td>1.000000</td>\n",
       "      <td>0.078613</td>\n",
       "      <td>0.084643</td>\n",
       "      <td>-0.016338</td>\n",
       "      <td>0.056058</td>\n",
       "      <td>0.093195</td>\n",
       "      <td>-0.038072</td>\n",
       "      <td>0.213899</td>\n",
       "      <td>0.050581</td>\n",
       "      <td>0.083862</td>\n",
       "      <td>-0.040726</td>\n",
       "      <td>0.218069</td>\n",
       "    </tr>\n",
       "    <tr>\n",
       "      <th>Reviews</th>\n",
       "      <td>0.078613</td>\n",
       "      <td>1.000000</td>\n",
       "      <td>0.643123</td>\n",
       "      <td>-0.009666</td>\n",
       "      <td>0.171733</td>\n",
       "      <td>0.198426</td>\n",
       "      <td>-0.057417</td>\n",
       "      <td>0.086453</td>\n",
       "      <td>0.171452</td>\n",
       "      <td>0.211876</td>\n",
       "      <td>-0.056503</td>\n",
       "      <td>0.081480</td>\n",
       "    </tr>\n",
       "    <tr>\n",
       "      <th>Installs_int</th>\n",
       "      <td>0.084643</td>\n",
       "      <td>0.643123</td>\n",
       "      <td>1.000000</td>\n",
       "      <td>-0.011688</td>\n",
       "      <td>0.216023</td>\n",
       "      <td>0.186963</td>\n",
       "      <td>-0.067473</td>\n",
       "      <td>0.056615</td>\n",
       "      <td>0.219700</td>\n",
       "      <td>0.177784</td>\n",
       "      <td>-0.063250</td>\n",
       "      <td>0.050959</td>\n",
       "    </tr>\n",
       "    <tr>\n",
       "      <th>Price_float</th>\n",
       "      <td>-0.016338</td>\n",
       "      <td>-0.009666</td>\n",
       "      <td>-0.011688</td>\n",
       "      <td>1.000000</td>\n",
       "      <td>-0.034903</td>\n",
       "      <td>-0.032335</td>\n",
       "      <td>0.111746</td>\n",
       "      <td>-0.019890</td>\n",
       "      <td>-0.032955</td>\n",
       "      <td>-0.030527</td>\n",
       "      <td>0.114470</td>\n",
       "      <td>-0.021378</td>\n",
       "    </tr>\n",
       "    <tr>\n",
       "      <th>Category_inst</th>\n",
       "      <td>0.056058</td>\n",
       "      <td>0.171733</td>\n",
       "      <td>0.216023</td>\n",
       "      <td>-0.034903</td>\n",
       "      <td>1.000000</td>\n",
       "      <td>0.865477</td>\n",
       "      <td>-0.312341</td>\n",
       "      <td>0.262079</td>\n",
       "      <td>0.913713</td>\n",
       "      <td>0.685752</td>\n",
       "      <td>-0.285730</td>\n",
       "      <td>0.215805</td>\n",
       "    </tr>\n",
       "    <tr>\n",
       "      <th>Category_rew</th>\n",
       "      <td>0.093195</td>\n",
       "      <td>0.198426</td>\n",
       "      <td>0.186963</td>\n",
       "      <td>-0.032335</td>\n",
       "      <td>0.865477</td>\n",
       "      <td>1.000000</td>\n",
       "      <td>-0.289362</td>\n",
       "      <td>0.435697</td>\n",
       "      <td>0.757715</td>\n",
       "      <td>0.759657</td>\n",
       "      <td>-0.268963</td>\n",
       "      <td>0.384116</td>\n",
       "    </tr>\n",
       "    <tr>\n",
       "      <th>Category_prc</th>\n",
       "      <td>-0.038072</td>\n",
       "      <td>-0.057417</td>\n",
       "      <td>-0.067473</td>\n",
       "      <td>0.111746</td>\n",
       "      <td>-0.312341</td>\n",
       "      <td>-0.289362</td>\n",
       "      <td>1.000000</td>\n",
       "      <td>-0.177992</td>\n",
       "      <td>-0.278008</td>\n",
       "      <td>-0.227057</td>\n",
       "      <td>0.959363</td>\n",
       "      <td>-0.134433</td>\n",
       "    </tr>\n",
       "    <tr>\n",
       "      <th>Category_rat</th>\n",
       "      <td>0.213899</td>\n",
       "      <td>0.086453</td>\n",
       "      <td>0.056615</td>\n",
       "      <td>-0.019890</td>\n",
       "      <td>0.262079</td>\n",
       "      <td>0.435697</td>\n",
       "      <td>-0.177992</td>\n",
       "      <td>1.000000</td>\n",
       "      <td>0.185710</td>\n",
       "      <td>0.278982</td>\n",
       "      <td>-0.140804</td>\n",
       "      <td>0.873303</td>\n",
       "    </tr>\n",
       "    <tr>\n",
       "      <th>Genres_0_inst</th>\n",
       "      <td>0.050581</td>\n",
       "      <td>0.171452</td>\n",
       "      <td>0.219700</td>\n",
       "      <td>-0.032955</td>\n",
       "      <td>0.913713</td>\n",
       "      <td>0.757715</td>\n",
       "      <td>-0.278008</td>\n",
       "      <td>0.185710</td>\n",
       "      <td>1.000000</td>\n",
       "      <td>0.809210</td>\n",
       "      <td>-0.287890</td>\n",
       "      <td>0.231947</td>\n",
       "    </tr>\n",
       "    <tr>\n",
       "      <th>Genres_0_rew</th>\n",
       "      <td>0.083862</td>\n",
       "      <td>0.211876</td>\n",
       "      <td>0.177784</td>\n",
       "      <td>-0.030527</td>\n",
       "      <td>0.685752</td>\n",
       "      <td>0.759657</td>\n",
       "      <td>-0.227057</td>\n",
       "      <td>0.278982</td>\n",
       "      <td>0.809210</td>\n",
       "      <td>1.000000</td>\n",
       "      <td>-0.266681</td>\n",
       "      <td>0.384564</td>\n",
       "    </tr>\n",
       "    <tr>\n",
       "      <th>Genres_0_prc</th>\n",
       "      <td>-0.040726</td>\n",
       "      <td>-0.056503</td>\n",
       "      <td>-0.063250</td>\n",
       "      <td>0.114470</td>\n",
       "      <td>-0.285730</td>\n",
       "      <td>-0.268963</td>\n",
       "      <td>0.959363</td>\n",
       "      <td>-0.140804</td>\n",
       "      <td>-0.287890</td>\n",
       "      <td>-0.266681</td>\n",
       "      <td>1.000000</td>\n",
       "      <td>-0.186758</td>\n",
       "    </tr>\n",
       "    <tr>\n",
       "      <th>Genres_0_rat</th>\n",
       "      <td>0.218069</td>\n",
       "      <td>0.081480</td>\n",
       "      <td>0.050959</td>\n",
       "      <td>-0.021378</td>\n",
       "      <td>0.215805</td>\n",
       "      <td>0.384116</td>\n",
       "      <td>-0.134433</td>\n",
       "      <td>0.873303</td>\n",
       "      <td>0.231947</td>\n",
       "      <td>0.384564</td>\n",
       "      <td>-0.186758</td>\n",
       "      <td>1.000000</td>\n",
       "    </tr>\n",
       "  </tbody>\n",
       "</table>\n",
       "</div>"
      ],
      "text/plain": [
       "                 Rating   Reviews  Installs_int  Price_float  Category_inst  \\\n",
       "Rating         1.000000  0.078613      0.084643    -0.016338       0.056058   \n",
       "Reviews        0.078613  1.000000      0.643123    -0.009666       0.171733   \n",
       "Installs_int   0.084643  0.643123      1.000000    -0.011688       0.216023   \n",
       "Price_float   -0.016338 -0.009666     -0.011688     1.000000      -0.034903   \n",
       "Category_inst  0.056058  0.171733      0.216023    -0.034903       1.000000   \n",
       "Category_rew   0.093195  0.198426      0.186963    -0.032335       0.865477   \n",
       "Category_prc  -0.038072 -0.057417     -0.067473     0.111746      -0.312341   \n",
       "Category_rat   0.213899  0.086453      0.056615    -0.019890       0.262079   \n",
       "Genres_0_inst  0.050581  0.171452      0.219700    -0.032955       0.913713   \n",
       "Genres_0_rew   0.083862  0.211876      0.177784    -0.030527       0.685752   \n",
       "Genres_0_prc  -0.040726 -0.056503     -0.063250     0.114470      -0.285730   \n",
       "Genres_0_rat   0.218069  0.081480      0.050959    -0.021378       0.215805   \n",
       "\n",
       "               Category_rew  Category_prc  Category_rat  Genres_0_inst  \\\n",
       "Rating             0.093195     -0.038072      0.213899       0.050581   \n",
       "Reviews            0.198426     -0.057417      0.086453       0.171452   \n",
       "Installs_int       0.186963     -0.067473      0.056615       0.219700   \n",
       "Price_float       -0.032335      0.111746     -0.019890      -0.032955   \n",
       "Category_inst      0.865477     -0.312341      0.262079       0.913713   \n",
       "Category_rew       1.000000     -0.289362      0.435697       0.757715   \n",
       "Category_prc      -0.289362      1.000000     -0.177992      -0.278008   \n",
       "Category_rat       0.435697     -0.177992      1.000000       0.185710   \n",
       "Genres_0_inst      0.757715     -0.278008      0.185710       1.000000   \n",
       "Genres_0_rew       0.759657     -0.227057      0.278982       0.809210   \n",
       "Genres_0_prc      -0.268963      0.959363     -0.140804      -0.287890   \n",
       "Genres_0_rat       0.384116     -0.134433      0.873303       0.231947   \n",
       "\n",
       "               Genres_0_rew  Genres_0_prc  Genres_0_rat  \n",
       "Rating             0.083862     -0.040726      0.218069  \n",
       "Reviews            0.211876     -0.056503      0.081480  \n",
       "Installs_int       0.177784     -0.063250      0.050959  \n",
       "Price_float       -0.030527      0.114470     -0.021378  \n",
       "Category_inst      0.685752     -0.285730      0.215805  \n",
       "Category_rew       0.759657     -0.268963      0.384116  \n",
       "Category_prc      -0.227057      0.959363     -0.134433  \n",
       "Category_rat       0.278982     -0.140804      0.873303  \n",
       "Genres_0_inst      0.809210     -0.287890      0.231947  \n",
       "Genres_0_rew       1.000000     -0.266681      0.384564  \n",
       "Genres_0_prc      -0.266681      1.000000     -0.186758  \n",
       "Genres_0_rat       0.384564     -0.186758      1.000000  "
      ]
     },
     "execution_count": 64,
     "metadata": {},
     "output_type": "execute_result"
    }
   ],
   "source": [
    "# посмотрим матрицу корреляции\n",
    "# старое: коррелируют количество инвталяций с количеством отзывов \n",
    "# старое: теперь среднее количество инсталяций по категориям коррелирует с средним количеством отзывов по категориям...\n",
    "# старое: слегка коррелирует средний рейтинг по категориям со средним количеством отзывов по категориям\n",
    "# количество установок/отзывов/цена/рейтинг по жанрам и по категориям сильно коррелирует с соответствующими показателями\n",
    "data_train.corr()"
   ]
  },
  {
   "cell_type": "markdown",
   "metadata": {},
   "source": [
    "## Дисперсионный анализ"
   ]
  },
  {
   "cell_type": "code",
   "execution_count": 65,
   "metadata": {},
   "outputs": [],
   "source": [
    "# я вот не поняла, как быть если данных ТАК МНОГО... что в таблице смотреть?.."
   ]
  },
  {
   "cell_type": "code",
   "execution_count": 66,
   "metadata": {},
   "outputs": [],
   "source": [
    "all_cats = data_train['Category'].unique()\n",
    "def disp_an(col_name): \n",
    "    # это все возможные значения, сразу объединили\n",
    "    y_all = data_train[col_name].values\n",
    "    # это соответственно общее среднее\n",
    "    y_mean = np.mean(y_all)\n",
    "    # это сумма квадратов отклонений наблюдений от общего среднего\n",
    "    s2 = np.sum((y_all - y_mean)**2)\n",
    "\n",
    "    s2_f = 0\n",
    "    s2_residual = 0\n",
    "    for i in all_cats:\n",
    "        # взяли ВСЕ значения нужного столбца для определенной категории. т.е. условно вытащили y1,y2...yn\n",
    "        b = data_train.loc[data_train['Category']==i,col_name].values\n",
    "        # посчитали в цикле сумму квадратов отклонений средних групповых значений от общего среднего\n",
    "        # то есть каждую итерацию цикла прибавляем к ней значение для нового массива\n",
    "        s2_f += ((b.mean() - y_mean)**2)*len(b)\n",
    "        #  посчитали в цикле остаточную сумму квадратов отклонений\n",
    "        s2_residual += np.sum((b - b.mean())**2)\n",
    "    \n",
    "    # это размер выборки всего\n",
    "    n = len(data_train) \n",
    "    # это получается количество выборок\n",
    "    k = len(all_cats) \n",
    "\n",
    "    # общая дисперсия\n",
    "    sigma2_general = s2 / (n - 1) \n",
    "    # факторная дисперсия\n",
    "    sigma2_f = s2_f / (k - 1)\n",
    "    # остаточная дисперсия\n",
    "    sigma2_residual = s2_residual / (n - k)\n",
    "\n",
    "    # Fh\n",
    "    F_h = sigma2_f / sigma2_residual\n",
    "    #  эмпирическое корреляционное отношение\n",
    "    eta2 = s2_f / s2\n",
    "\n",
    "\n",
    "    print('s2: {}, s2_f: {}, s2_residual: {}, s2_f + s2_residual: {}'.format(s2, s2_f, s2_residual, s2_f + s2_residual))\n",
    "    print('sigma2_general: {}, sigma2_f: {}, sigma2_residual: {}'.format(sigma2_general, sigma2_f, sigma2_residual))\n",
    "    print('F_h: {}'.format(F_h))\n",
    "    print('k-1: {}, n-k: {}'.format(k-1, n-k))\n",
    "    print('eta2: {}'.format(eta2))"
   ]
  },
  {
   "cell_type": "code",
   "execution_count": 67,
   "metadata": {},
   "outputs": [
    {
     "name": "stdout",
     "output_type": "stream",
     "text": [
      "s2: 24866.56621529379, s2_f: 1137.7140884253015, s2_residual: 23728.8521268685, s2_f + s2_residual: 24866.566215293802\n",
      "sigma2_general: 2.2939636729975823, sigma2_f: 35.55356526329067, sigma2_residual: 2.1954896490440876\n",
      "F_h: 16.193911585404482\n",
      "k-1: 32, n-k: 10808\n",
      "eta2: 0.04575276210535125\n"
     ]
    }
   ],
   "source": [
    "disp_an('Rating')"
   ]
  },
  {
   "cell_type": "code",
   "execution_count": 68,
   "metadata": {},
   "outputs": [
    {
     "name": "stdout",
     "output_type": "stream",
     "text": [
      "s2: 9.290974400029685e+16, s2_f: 3658113519776167.0, s2_residual: 8.925163048052069e+16, s2_f + s2_residual: 9.290974400029685e+16\n",
      "sigma2_general: 8571009594123.325, sigma2_f: 114316047493005.22, sigma2_residual: 8257922879396.807\n",
      "F_h: 13.843196305237878\n",
      "k-1: 32, n-k: 10808\n",
      "eta2: 0.03937276503274489\n"
     ]
    }
   ],
   "source": [
    "disp_an('Reviews')"
   ]
  },
  {
   "cell_type": "code",
   "execution_count": 69,
   "metadata": {},
   "outputs": [
    {
     "name": "stdout",
     "output_type": "stream",
     "text": [
      "s2: 7.836612562512429e+19, s2_f: 3.6570383665064883e+18, s2_residual: 7.470908725861782e+19, s2_f + s2_residual: 7.83661256251243e+19\n",
      "sigma2_general: 7229347382391540.0, sigma2_f: 1.1428244895332776e+17, sigma2_residual: 6912387792248133.0\n",
      "F_h: 16.532991549098174\n",
      "k-1: 32, n-k: 10808\n",
      "eta2: 0.04666606058848004\n"
     ]
    }
   ],
   "source": [
    "disp_an('Installs_int')"
   ]
  },
  {
   "cell_type": "code",
   "execution_count": 70,
   "metadata": {},
   "outputs": [
    {
     "name": "stdout",
     "output_type": "stream",
     "text": [
      "s2: 2757367.0, s2_f: 34431.704939474665, s2_residual: 2722935.518814802, s2_f + s2_residual: 2757367.223754277\n",
      "sigma2_general: 254.36964944649446, sigma2_f: 1075.9907793585833, sigma2_residual: 251.93703912054053\n",
      "F_h: 4.270871734916954\n",
      "k-1: 32, n-k: 10808\n",
      "eta2: 0.012487167990142286\n"
     ]
    }
   ],
   "source": [
    "disp_an('Price_float')"
   ]
  },
  {
   "cell_type": "code",
   "execution_count": null,
   "metadata": {},
   "outputs": [],
   "source": []
  }
 ],
 "metadata": {
  "kernelspec": {
   "display_name": "Python 3",
   "language": "python",
   "name": "python3"
  },
  "language_info": {
   "codemirror_mode": {
    "name": "ipython",
    "version": 3
   },
   "file_extension": ".py",
   "mimetype": "text/x-python",
   "name": "python",
   "nbconvert_exporter": "python",
   "pygments_lexer": "ipython3",
   "version": "3.7.3"
  }
 },
 "nbformat": 4,
 "nbformat_minor": 2
}
