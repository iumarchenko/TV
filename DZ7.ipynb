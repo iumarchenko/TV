{
 "cells": [
  {
   "cell_type": "markdown",
   "metadata": {},
   "source": [
    "<b> Даны значения величины заработной платы заемщиков банка (zp) и значения их поведенческого кредитного скоринга (ks): <br>\n",
    "zp = [35, 45, 190, 200, 40, 70, 54, 150, 120, 110]<br>\n",
    "ks = [401, 574, 874, 919, 459, 739, 653, 902, 746, 832]<br>\n",
    "Используя математические операции, посчитать коэффициенты линейной регрессии, приняв за X заработную плату (то есть, zp - признак), а за y - значения скорингового балла (то есть, ks - целевая переменная). <br>\n",
    "Произвести расчет как с использованием intercept, так и без."
   ]
  },
  {
   "cell_type": "code",
   "execution_count": 10,
   "metadata": {},
   "outputs": [],
   "source": [
    "import numpy as np\n",
    "import math \n",
    "import matplotlib.pyplot as plt"
   ]
  },
  {
   "cell_type": "code",
   "execution_count": 11,
   "metadata": {},
   "outputs": [],
   "source": [
    "x = np.array([35, 45, 190, 200, 40, 70, 54, 150, 120, 110]) # zp\n",
    "y = np.array([401, 574, 874, 919, 459, 739, 653, 902, 746, 832]) # ks"
   ]
  },
  {
   "cell_type": "code",
   "execution_count": 12,
   "metadata": {},
   "outputs": [
    {
     "data": {
      "text/plain": [
       "2.620538882402765"
      ]
     },
     "execution_count": 12,
     "metadata": {},
     "output_type": "execute_result"
    }
   ],
   "source": [
    "# с использованием intercept\n",
    "b = (np.mean(x * y) - np.mean(x) * np.mean(y)) / (np.mean(x**2) - np.mean(x) ** 2)\n",
    "b"
   ]
  },
  {
   "cell_type": "code",
   "execution_count": 13,
   "metadata": {},
   "outputs": [
    {
     "data": {
      "text/plain": [
       "444.1773573243596"
      ]
     },
     "execution_count": 13,
     "metadata": {},
     "output_type": "execute_result"
    }
   ],
   "source": [
    "a = np.mean(y) - b * np.mean(x)\n",
    "a"
   ]
  },
  {
   "cell_type": "code",
   "execution_count": 14,
   "metadata": {},
   "outputs": [],
   "source": [
    "y_pred_1 = a + b*x"
   ]
  },
  {
   "cell_type": "code",
   "execution_count": 15,
   "metadata": {},
   "outputs": [
    {
     "data": {
      "text/plain": [
       "5.889820420132688"
      ]
     },
     "execution_count": 15,
     "metadata": {},
     "output_type": "execute_result"
    }
   ],
   "source": [
    "# без использования intercept\n",
    "b = np.mean(x * y)/np.mean(x**2)\n",
    "b"
   ]
  },
  {
   "cell_type": "code",
   "execution_count": 16,
   "metadata": {},
   "outputs": [],
   "source": [
    "y_pred_2 = b*x"
   ]
  },
  {
   "cell_type": "code",
   "execution_count": 17,
   "metadata": {},
   "outputs": [
    {
     "data": {
      "image/png": "[encoded data removed]",
      "text/plain": [
       "<Figure size 432x288 with 1 Axes>"
      ]
     },
     "metadata": {
      "needs_background": "light"
     },
     "output_type": "display_data"
    }
   ],
   "source": [
    "plt.scatter(x, y)\n",
    "plt.plot(x, y_pred_1)\n",
    "plt.plot(x, y_pred_2)\n",
    "plt.xlabel('x')\n",
    "plt.ylabel('y')\n",
    "plt.show()"
   ]
  },
  {
   "cell_type": "markdown",
   "metadata": {},
   "source": [
    "<b> Посчитать коэффициент линейной регрессии при заработной плате (zp), используя градиентный спуск (без intercept)."
   ]
  },
  {
   "cell_type": "code",
   "execution_count": 104,
   "metadata": {},
   "outputs": [],
   "source": [
    "def mse(B1, y=y, x=x):\n",
    "    n = len(x)\n",
    "    return np.sum((B1*x-y)**2)/n"
   ]
  },
  {
   "cell_type": "code",
   "execution_count": 111,
   "metadata": {},
   "outputs": [],
   "source": [
    "B1 = 5.7\n",
    "n = len(x)\n",
    "alpha = 0.00001"
   ]
  },
  {
   "cell_type": "code",
   "execution_count": 113,
   "metadata": {},
   "outputs": [
    {
     "name": "stdout",
     "output_type": "stream",
     "text": [
      "0 5.889820406350363 56516.85841571941\n",
      "5 5.889820417382145 56516.85841571941\n",
      "10 5.889820419583762 56516.8584157194\n",
      "15 5.88982042002314 56516.8584157194\n",
      "20 5.889820420110826 56516.85841571941\n",
      "25 5.889820420128325 56516.85841571941\n",
      "30 5.8898204201318185 56516.85841571943\n",
      "35 5.889820420132515 56516.85841571939\n",
      "40 5.889820420132654 56516.8584157194\n",
      "45 5.889820420132682 56516.8584157194\n",
      "50 5.889820420132688 56516.8584157194\n"
     ]
    }
   ],
   "source": [
    "for i in range(51):\n",
    "    B1 -= alpha*(2/n)*np.sum((B1*x-y)*x)\n",
    "    if i%5==0:\n",
    "        print(i, B1, mse(B1))"
   ]
  },
  {
   "cell_type": "markdown",
   "metadata": {},
   "source": [
    "<b>В каких случаях для вычисления доверительных интервалов и проверки статистических гипотез используется таблица значений функции Лапласа, а в каких - таблица критических точек распределения Стьюдента?<b>"
   ]
  },
  {
   "cell_type": "markdown",
   "metadata": {},
   "source": [
    "таблица критических точек распределения Стьюдента используется когда известно число степеней свободы и уровень значимости α. <br> таблица значений функции Лапласа используется когда известна дисперсия генеральной совокупности"
   ]
  },
  {
   "cell_type": "markdown",
   "metadata": {},
   "source": [
    "<b>Произвести вычисления как в пункте 2, но с вычислением intercept.  <br>\n",
    "Учесть, что изменение коэффициентов должно производиться на каждом шаге одновременно (то есть изменение одного коэффициента не должно влиять на изменение другого во время одной итерации)."
   ]
  },
  {
   "cell_type": "code",
   "execution_count": 181,
   "metadata": {},
   "outputs": [],
   "source": [
    "def mse(B1, A1, y=y, x=x):\n",
    "    n = len(x)\n",
    "    return np.sum((B1*x+A1-y)**2)/n"
   ]
  },
  {
   "cell_type": "code",
   "execution_count": 182,
   "metadata": {},
   "outputs": [
    {
     "name": "stdout",
     "output_type": "stream",
     "text": [
      "0 3.11402 400.00564 7355.866395380083\n",
      "50000 2.7120042890699994 431.75073877224384 6509.585351898086\n",
      "100000 2.646269687194868 440.68153406350973 6473.514184308142\n",
      "150000 2.627777403930988 443.19392162784806 6470.659532121461\n",
      "200000 2.622575204015634 443.9006998113764 6470.433616531494\n",
      "250000 2.621111734979729 444.09952876906306 6470.415737697063\n",
      "300000 2.620700035765217 444.15546280230427 6470.4143227760305\n",
      "350000 2.6205842176378353 444.1711980156798 6470.414210799968\n"
     ]
    }
   ],
   "source": [
    "B1 = 2.5\n",
    "A1 = 400\n",
    "n = len(x)\n",
    "alpha = 0.00005\n",
    "\n",
    "for i in range(350001):\n",
    "    A0,B0 = A1,B1\n",
    "    B1 -= alpha*(2/n)*np.sum((B0*x+A0-y)*x)\n",
    "    A1 -= alpha*(2/n)*np.sum((B0*x+A0-y))\n",
    "    if i%50000==0:\n",
    "        print(i, B1, A1, mse(B1,A1))"
   ]
  },
  {
   "cell_type": "code",
   "execution_count": null,
   "metadata": {},
   "outputs": [],
   "source": []
  },
  {
   "cell_type": "code",
   "execution_count": null,
   "metadata": {},
   "outputs": [],
   "source": []
  }
 ],
 "metadata": {
  "kernelspec": {
   "display_name": "Python 3",
   "language": "python",
   "name": "python3"
  },
  "language_info": {
   "codemirror_mode": {
    "name": "ipython",
    "version": 3
   },
   "file_extension": ".py",
   "mimetype": "text/x-python",
   "name": "python",
   "nbconvert_exporter": "python",
   "pygments_lexer": "ipython3",
   "version": "3.7.3"
  }
 },
 "nbformat": 4,
 "nbformat_minor": 2
}
